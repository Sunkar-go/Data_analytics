{
 "cells": [
  {
   "cell_type": "markdown",
   "id": "20d02d60",
   "metadata": {
    "id": "20d02d60"
   },
   "source": [
    "# Feature Engineering. Практическая работа"
   ]
  },
  {
   "cell_type": "markdown",
   "id": "zy6qaMPhyAZd",
   "metadata": {
    "id": "zy6qaMPhyAZd"
   },
   "source": [
    "Сдаётся на проверку."
   ]
  },
  {
   "cell_type": "markdown",
   "id": "df9d0fa3",
   "metadata": {
    "id": "df9d0fa3"
   },
   "source": [
    "## Цели практической работы\n",
    "\n",
    "Научиться: \n",
    "\n",
    "*   генерировать новые признаки; \n",
    "*   нормализовать и кодировать данные с помощью lambda-функций и библиотеки scikit-learn.\n"
   ]
  },
  {
   "cell_type": "markdown",
   "id": "c4a1bdf2",
   "metadata": {
    "id": "c4a1bdf2"
   },
   "source": [
    "## Что входит в практическую работу\n",
    "\n",
    "1. Построить признаки из строк.\n",
    "2. Преобразовать категориальные переменные.\n",
    "3. Стандартизировать данные.\n",
    "4. Использовать MinMaxScaler для нормализации данных.\n",
    "5. Создать признаки на основе дат.\n",
    "6. Сохранить датафрейм для этапа моделирования."
   ]
  },
  {
   "cell_type": "markdown",
   "id": "cefde751",
   "metadata": {
    "id": "cefde751"
   },
   "source": [
    "## Что оценивается\n",
    "- Программа выдаёт верный ответ на заданном наборе данных.\n",
    "- Описаны причины выбранного решения, если требуется.\n",
    "- Код читабелен: переменным даны осмысленные названия, соблюдены отступы и правила расстановки пробелов.\n",
    "- При построении графиков название и оси подписаны, выведена легенда, если требуется. \n",
    "- Репозиторий проекта содержит осмысленные коммиты, содержащие конкретные реализованные фичи, ветки названы согласно назначению, лишние файлы не хранятся в репозитории.\n",
    "- В репозитории проекта соблюдена иерархия директорий согласно списку модулей и содержащихся в них тем.\n",
    "- Репозиторий проекта содержит файлы с данными, полученными в результате выполнения практической работы.\n"
   ]
  },
  {
   "cell_type": "markdown",
   "id": "d8cc2cfd",
   "metadata": {
    "id": "d8cc2cfd"
   },
   "source": [
    "## Как отправить работу на проверку\n",
    "Сдайте практическую работу этого модуля через систему контроля версий Git сервиса Skillbox GitLab. После загрузки работы на проверку напишите об этом в личном кабинете своему проверяющему куратору.\n"
   ]
  },
  {
   "cell_type": "markdown",
   "id": "3092d4ea",
   "metadata": {
    "id": "3092d4ea"
   },
   "source": [
    "## Задача\n",
    "\n",
    "Мы продолжим исследовать и готовить данные для этапа моделирования.\n",
    "\n",
    "Вам предстоит работать с небольшой выборкой из коллекции подержанных автомобилей, выставленных на продажу в Соединённых Штатах, представленной в файле `data/vehicles_dataset_upd.csv`. На этих данных вы построите первую модель классификации, определяющую категорию цены подержанного автомобиля в зависимости от характеристик транспортного средства.\n",
    "\n",
    "В этой практической работе вы продолжите генерировать дополнительные признаки и завершите подготовку датасета для этапа моделирования.\n",
    "\n",
    "## Описание датасета:\n",
    "- `id`— идентификатор записи;\n",
    "- `url`— URL-записи о продаже;\n",
    "- `region`— регион;\n",
    "- `region_url`— URL региона;\n",
    "- `price`— стоимость;\n",
    "- `year`— год выпуска;\n",
    "- `manufacturer`— производитель;\n",
    "- `model`— модель;\n",
    "- `condition`— состояние;\n",
    "- `cylinders`— количество цилиндров;\n",
    "- `fuel`— тип топлива;\n",
    "- `odometer`— количество пройденных миль;\n",
    "- `title_status`— статус;\n",
    "- `transmission`— коробка передач;\n",
    "- `VIN`— идентификационный номер;\n",
    "- `drive`— тип привода;\n",
    "- `size`— размер;\n",
    "- `type`— кузов;\n",
    "- `paint_color`— цвет;\n",
    "- `image_url`— URL изображения;\n",
    "- `description`— указанное описание;\n",
    "- `county`— страна;\n",
    "- `state`— штат;\n",
    "- `lat`— широта;\n",
    "- `long`— долгота;\n",
    "- `posting_date`— дата размещения объявления о продаже;\n",
    "- `price_category`— категория цены.\n"
   ]
  },
  {
   "cell_type": "code",
   "execution_count": 42,
   "id": "859c4d2b",
   "metadata": {
    "ExecuteTime": {
     "end_time": "2022-02-23T19:39:15.915860Z",
     "start_time": "2022-02-23T19:39:15.902436Z"
    },
    "id": "859c4d2b"
   },
   "outputs": [],
   "source": [
    "# Импортируйте необходимые библиотеки\n",
    "import pandas as pd\n",
    "import matplotlib.pyplot as plt\n",
    "from sklearn.preprocessing import OneHotEncoder"
   ]
  },
  {
   "cell_type": "markdown",
   "id": "a98b05f6",
   "metadata": {
    "id": "a98b05f6"
   },
   "source": [
    "### Задача 1. Построение признаков из строк\n",
    "\n",
    "1. Загрузите датасет из `data/vehicles_dataset_upd6.csv`, выведите первые пять записей и список колонок."
   ]
  },
  {
   "cell_type": "code",
   "execution_count": 47,
   "id": "d536ad11",
   "metadata": {
    "ExecuteTime": {
     "end_time": "2022-03-15T22:40:23.588946Z",
     "start_time": "2022-03-15T22:40:23.585461Z"
    },
    "id": "d536ad11"
   },
   "outputs": [
    {
     "name": "stdout",
     "output_type": "stream",
     "text": [
      "           id                                                url  \\\n",
      "0  7308295377  https://chattanooga.craigslist.org/ctd/d/chatt...   \n",
      "1  7316380095  https://newjersey.craigslist.org/ctd/d/carlsta...   \n",
      "2  7313733749  https://reno.craigslist.org/ctd/d/atlanta-2017...   \n",
      "3  7308210929  https://fayetteville.craigslist.org/ctd/d/rale...   \n",
      "4  7303797340  https://knoxville.craigslist.org/ctd/d/knoxvil...   \n",
      "\n",
      "         region                           region_url  price  year  \\\n",
      "0   chattanooga   https://chattanooga.craigslist.org  54990  2020   \n",
      "1  north jersey     https://newjersey.craigslist.org  16942  2016   \n",
      "2  reno / tahoe          https://reno.craigslist.org  35590  2017   \n",
      "3  fayetteville  https://fayetteville.craigslist.org  14500  2013   \n",
      "4     knoxville     https://knoxville.craigslist.org  14590  2012   \n",
      "\n",
      "  manufacturer                   model    fuel  odometer  ...  \\\n",
      "0          ram  2500 crew cab big horn  diesel     27442  ...   \n",
      "1         ford    explorer 4wd 4dr xlt   other     60023  ...   \n",
      "2   volkswagen        golf r hatchback     gas     14048  ...   \n",
      "3       toyota                    rav4     gas    117291  ...   \n",
      "4          bmw  1 series 128i coupe 2d   other     80465  ...   \n",
      "\n",
      "             manufacturer_model desc_len model_in_desc x0_diesel x0_electric  \\\n",
      "0   ram: 2500 crew cab big horn     4482             0       1.0         0.0   \n",
      "1    ford: explorer 4wd 4dr xlt      968             0       0.0         0.0   \n",
      "2  volkswagen: golf r hatchback     4286             0       0.0         0.0   \n",
      "3                  toyota: rav4     3241             0       0.0         0.0   \n",
      "4   bmw: 1 series 128i coupe 2d     4851             0       0.0         0.0   \n",
      "\n",
      "   x0_gas  x0_hybrid x0_other std_scaled_odometer std_scaled_price  \n",
      "0     0.0        0.0      0.0           -1.079390         2.958509  \n",
      "1     0.0        0.0      1.0           -0.560115        -0.085826  \n",
      "2     1.0        0.0      0.0           -1.292863         1.406256  \n",
      "3     1.0        0.0      0.0            0.352621        -0.281218  \n",
      "4     0.0        0.0      1.0           -0.234311        -0.274017  \n",
      "\n",
      "[5 rows x 34 columns]\n"
     ]
    },
    {
     "data": {
      "text/plain": [
       "Index(['id', 'url', 'region', 'region_url', 'price', 'year', 'manufacturer',\n",
       "       'model', 'fuel', 'odometer', 'title_status', 'transmission',\n",
       "       'image_url', 'description', 'state', 'lat', 'long', 'posting_date',\n",
       "       'price_category', 'date', 'odometer_km', 'odometer/price', 'region_new',\n",
       "       'region_corrected', 'manufacturer_model', 'desc_len', 'model_in_desc',\n",
       "       'x0_diesel', 'x0_electric', 'x0_gas', 'x0_hybrid', 'x0_other',\n",
       "       'std_scaled_odometer', 'std_scaled_price'],\n",
       "      dtype='object')"
      ]
     },
     "execution_count": 47,
     "metadata": {},
     "output_type": "execute_result"
    }
   ],
   "source": [
    "# Ваш код здесь\n",
    "df=pd.read_csv(\"E:/Sunkar/interesting/Python/data/vehicles_dataset_upd6.csv\",sep=',')\n",
    "print(df.head())\n",
    "df.columns"
   ]
  },
  {
   "cell_type": "markdown",
   "id": "c46630e3",
   "metadata": {
    "id": "c46630e3"
   },
   "source": [
    "2. Выведите список значений и количество уникальных значений для модели автомобиля."
   ]
  },
  {
   "cell_type": "code",
   "execution_count": 48,
   "id": "12c123d6",
   "metadata": {
    "ExecuteTime": {
     "end_time": "2022-03-15T22:40:29.330321Z",
     "start_time": "2022-03-15T22:40:29.326988Z"
    },
    "id": "12c123d6"
   },
   "outputs": [
    {
     "data": {
      "text/plain": [
       "model\n",
       "f-150                        145\n",
       "other                        107\n",
       "silverado 1500               105\n",
       "1500                          99\n",
       "camry                         76\n",
       "                            ... \n",
       "sierra1500 crewcab 4x4         1\n",
       "corolla se                     1\n",
       "xc60 t6 inscription sport      1\n",
       "silverado 1500 ls              1\n",
       "a3 2.0t premium plus pzev      1\n",
       "Name: count, Length: 3341, dtype: int64"
      ]
     },
     "execution_count": 48,
     "metadata": {},
     "output_type": "execute_result"
    }
   ],
   "source": [
    "# Ваш код здесь\n",
    "df['model'].value_counts()"
   ]
  },
  {
   "cell_type": "markdown",
   "id": "bcf1904b",
   "metadata": {
    "id": "bcf1904b"
   },
   "source": [
    "3. Количество уникальных значений велико. Попробуем их сократить, оставив только первое слово в наименовании модели. С помощью lambda-функции и преобразования над строками создайте новый признак `short_model`, содержащий только первое слово из наименования модели, выведите его и количество получившихся уникальных значений."
   ]
  },
  {
   "cell_type": "code",
   "execution_count": 50,
   "id": "6de1d535",
   "metadata": {
    "ExecuteTime": {
     "end_time": "2022-03-15T22:40:30.465505Z",
     "start_time": "2022-03-15T22:40:30.460032Z"
    },
    "id": "6de1d535"
   },
   "outputs": [
    {
     "data": {
      "text/plain": [
       "short_model\n",
       "silverado    392\n",
       "1500         205\n",
       "wrangler     204\n",
       "grand        201\n",
       "f-150        197\n",
       "            ... \n",
       "sle            1\n",
       "classuc        1\n",
       "s3             1\n",
       "cts-v          1\n",
       "gs350          1\n",
       "Name: count, Length: 943, dtype: int64"
      ]
     },
     "execution_count": 50,
     "metadata": {},
     "output_type": "execute_result"
    }
   ],
   "source": [
    "# Ваш код здесь\n",
    "df['short_model']=df['model'].apply(lambda x: x.split(' ')[0])\n",
    "df['short_model'].value_counts()"
   ]
  },
  {
   "cell_type": "markdown",
   "id": "f8266e27",
   "metadata": {
    "ExecuteTime": {
     "end_time": "2022-01-28T23:12:51.463454Z",
     "start_time": "2022-01-28T23:12:51.458075Z"
    },
    "id": "f8266e27"
   },
   "source": [
    "### Задача 2. Преобразование категориальных переменных\n",
    "\n",
    "1. Для категориальных переменных `short_model`, `transmission`, `region`, `manufacturer`, `state`, `title_status`, `age_category` распечатайте наименование категории и количество уникальных значений в ней.\n"
   ]
  },
  {
   "cell_type": "code",
   "execution_count": 56,
   "id": "a839bd7c",
   "metadata": {
    "ExecuteTime": {
     "end_time": "2022-03-15T22:40:31.559424Z",
     "start_time": "2022-03-15T22:40:31.552170Z"
    },
    "id": "a839bd7c"
   },
   "outputs": [
    {
     "data": {
      "text/plain": [
       "short_model     943\n",
       "transmission      3\n",
       "region          393\n",
       "manufacturer     40\n",
       "state            51\n",
       "title_status      6\n",
       "dtype: int64"
      ]
     },
     "execution_count": 56,
     "metadata": {},
     "output_type": "execute_result"
    }
   ],
   "source": [
    "# Ваш код здесь\n",
    "df[['short_model','transmission','region','manufacturer','state','title_status']].nunique()"
   ]
  },
  {
   "cell_type": "markdown",
   "id": "6d22ddcd",
   "metadata": {
    "id": "6d22ddcd"
   },
   "source": [
    "2. Создайте датафрейм `data`, содержащий только выбранные категориальные переменные."
   ]
  },
  {
   "cell_type": "code",
   "execution_count": 57,
   "id": "c6fb4d53",
   "metadata": {
    "ExecuteTime": {
     "end_time": "2022-03-15T22:40:32.233510Z",
     "start_time": "2022-03-15T22:40:32.226777Z"
    },
    "id": "c6fb4d53"
   },
   "outputs": [
    {
     "data": {
      "text/html": [
       "<div>\n",
       "<style scoped>\n",
       "    .dataframe tbody tr th:only-of-type {\n",
       "        vertical-align: middle;\n",
       "    }\n",
       "\n",
       "    .dataframe tbody tr th {\n",
       "        vertical-align: top;\n",
       "    }\n",
       "\n",
       "    .dataframe thead th {\n",
       "        text-align: right;\n",
       "    }\n",
       "</style>\n",
       "<table border=\"1\" class=\"dataframe\">\n",
       "  <thead>\n",
       "    <tr style=\"text-align: right;\">\n",
       "      <th></th>\n",
       "      <th>short_model</th>\n",
       "      <th>transmission</th>\n",
       "      <th>region</th>\n",
       "      <th>manufacturer</th>\n",
       "      <th>state</th>\n",
       "      <th>title_status</th>\n",
       "    </tr>\n",
       "  </thead>\n",
       "  <tbody>\n",
       "    <tr>\n",
       "      <th>count</th>\n",
       "      <td>9619</td>\n",
       "      <td>9619</td>\n",
       "      <td>9619</td>\n",
       "      <td>9619</td>\n",
       "      <td>9619</td>\n",
       "      <td>9619</td>\n",
       "    </tr>\n",
       "    <tr>\n",
       "      <th>unique</th>\n",
       "      <td>943</td>\n",
       "      <td>3</td>\n",
       "      <td>393</td>\n",
       "      <td>40</td>\n",
       "      <td>51</td>\n",
       "      <td>6</td>\n",
       "    </tr>\n",
       "    <tr>\n",
       "      <th>top</th>\n",
       "      <td>silverado</td>\n",
       "      <td>automatic</td>\n",
       "      <td>kansas city, MO</td>\n",
       "      <td>ford</td>\n",
       "      <td>ca</td>\n",
       "      <td>clean</td>\n",
       "    </tr>\n",
       "    <tr>\n",
       "      <th>freq</th>\n",
       "      <td>392</td>\n",
       "      <td>7363</td>\n",
       "      <td>86</td>\n",
       "      <td>1561</td>\n",
       "      <td>1073</td>\n",
       "      <td>9314</td>\n",
       "    </tr>\n",
       "  </tbody>\n",
       "</table>\n",
       "</div>"
      ],
      "text/plain": [
       "       short_model transmission           region manufacturer state  \\\n",
       "count         9619         9619             9619         9619  9619   \n",
       "unique         943            3              393           40    51   \n",
       "top      silverado    automatic  kansas city, MO         ford    ca   \n",
       "freq           392         7363               86         1561  1073   \n",
       "\n",
       "       title_status  \n",
       "count          9619  \n",
       "unique            6  \n",
       "top           clean  \n",
       "freq           9314  "
      ]
     },
     "execution_count": 57,
     "metadata": {},
     "output_type": "execute_result"
    }
   ],
   "source": [
    "# Ваш код здесь\n",
    "data=df[['short_model','transmission','region','manufacturer','state','title_status']]\n",
    "data.describe()"
   ]
  },
  {
   "cell_type": "markdown",
   "id": "cac34814",
   "metadata": {
    "id": "cac34814"
   },
   "source": [
    "3. Создайте объект класса OneHotEncoder, который будет отвечать за преобразование. Уточните, что на выходе должна быть неразреженная матрица."
   ]
  },
  {
   "cell_type": "code",
   "execution_count": 7,
   "id": "5c64ca58",
   "metadata": {
    "ExecuteTime": {
     "end_time": "2022-03-15T22:40:33.034009Z",
     "start_time": "2022-03-15T22:40:33.028764Z"
    },
    "id": "5c64ca58"
   },
   "outputs": [],
   "source": [
    "# Ваш код здесь\n"
   ]
  },
  {
   "cell_type": "markdown",
   "id": "26a44ecc",
   "metadata": {
    "id": "26a44ecc"
   },
   "source": [
    "4. Идентифицируйте параметры преобразования на датафрейме с категориальными переменными."
   ]
  },
  {
   "cell_type": "code",
   "execution_count": 8,
   "id": "295f2ffc",
   "metadata": {
    "ExecuteTime": {
     "end_time": "2022-03-15T22:40:33.874311Z",
     "start_time": "2022-03-15T22:40:33.871463Z"
    },
    "id": "295f2ffc"
   },
   "outputs": [],
   "source": [
    "# Ваш код здесь\n"
   ]
  },
  {
   "cell_type": "markdown",
   "id": "e5504b8d",
   "metadata": {
    "id": "e5504b8d"
   },
   "source": [
    "5. Примените преобразование для датафрейма с категориальными переменными и сохраните в новую переменную, распечатайте получившуюся матрицу и её размерность."
   ]
  },
  {
   "cell_type": "code",
   "execution_count": 9,
   "id": "10d8356c",
   "metadata": {
    "ExecuteTime": {
     "end_time": "2022-03-15T22:40:34.519702Z",
     "start_time": "2022-03-15T22:40:34.516796Z"
    },
    "id": "10d8356c"
   },
   "outputs": [],
   "source": [
    "# Ваш код здесь\n"
   ]
  },
  {
   "cell_type": "markdown",
   "id": "490cf3fa",
   "metadata": {
    "id": "490cf3fa"
   },
   "source": [
    "6. Выведите новые наименования признаков с помощью метода `get_feature_names_out`."
   ]
  },
  {
   "cell_type": "code",
   "execution_count": 10,
   "id": "a5ee48ea",
   "metadata": {
    "ExecuteTime": {
     "end_time": "2022-03-15T22:40:35.296004Z",
     "start_time": "2022-03-15T22:40:35.291879Z"
    },
    "id": "a5ee48ea"
   },
   "outputs": [],
   "source": [
    "# Ваш код здесь"
   ]
  },
  {
   "cell_type": "markdown",
   "id": "115aed73",
   "metadata": {
    "id": "115aed73"
   },
   "source": [
    "7. Добавьте в исходный датафрейм получившиеся новые признаки, выведите первые пять записей датафрейма и список колонок."
   ]
  },
  {
   "cell_type": "code",
   "execution_count": 11,
   "id": "0062ac07",
   "metadata": {
    "ExecuteTime": {
     "end_time": "2022-03-15T22:40:35.978083Z",
     "start_time": "2022-03-15T22:40:35.970249Z"
    },
    "id": "0062ac07"
   },
   "outputs": [
    {
     "name": "stderr",
     "output_type": "stream",
     "text": [
      "C:\\Users\\ASUTP-HP1\\AppData\\Local\\Temp\\ipykernel_11000\\1870251462.py:2: PerformanceWarning: DataFrame is highly fragmented.  This is usually the result of calling `frame.insert` many times, which has poor performance.  Consider joining all columns at once using pd.concat(axis=1) instead. To get a de-fragmented frame, use `newframe = frame.copy()`\n",
      "  df[ohe.get_feature_names_out()]=ohe_cats\n",
      "C:\\Users\\ASUTP-HP1\\AppData\\Local\\Temp\\ipykernel_11000\\1870251462.py:2: PerformanceWarning: DataFrame is highly fragmented.  This is usually the result of calling `frame.insert` many times, which has poor performance.  Consider joining all columns at once using pd.concat(axis=1) instead. To get a de-fragmented frame, use `newframe = frame.copy()`\n",
      "  df[ohe.get_feature_names_out()]=ohe_cats\n",
      "C:\\Users\\ASUTP-HP1\\AppData\\Local\\Temp\\ipykernel_11000\\1870251462.py:2: PerformanceWarning: DataFrame is highly fragmented.  This is usually the result of calling `frame.insert` many times, which has poor performance.  Consider joining all columns at once using pd.concat(axis=1) instead. To get a de-fragmented frame, use `newframe = frame.copy()`\n",
      "  df[ohe.get_feature_names_out()]=ohe_cats\n",
      "C:\\Users\\ASUTP-HP1\\AppData\\Local\\Temp\\ipykernel_11000\\1870251462.py:2: PerformanceWarning: DataFrame is highly fragmented.  This is usually the result of calling `frame.insert` many times, which has poor performance.  Consider joining all columns at once using pd.concat(axis=1) instead. To get a de-fragmented frame, use `newframe = frame.copy()`\n",
      "  df[ohe.get_feature_names_out()]=ohe_cats\n",
      "C:\\Users\\ASUTP-HP1\\AppData\\Local\\Temp\\ipykernel_11000\\1870251462.py:2: PerformanceWarning: DataFrame is highly fragmented.  This is usually the result of calling `frame.insert` many times, which has poor performance.  Consider joining all columns at once using pd.concat(axis=1) instead. To get a de-fragmented frame, use `newframe = frame.copy()`\n",
      "  df[ohe.get_feature_names_out()]=ohe_cats\n",
      "C:\\Users\\ASUTP-HP1\\AppData\\Local\\Temp\\ipykernel_11000\\1870251462.py:2: PerformanceWarning: DataFrame is highly fragmented.  This is usually the result of calling `frame.insert` many times, which has poor performance.  Consider joining all columns at once using pd.concat(axis=1) instead. To get a de-fragmented frame, use `newframe = frame.copy()`\n",
      "  df[ohe.get_feature_names_out()]=ohe_cats\n",
      "C:\\Users\\ASUTP-HP1\\AppData\\Local\\Temp\\ipykernel_11000\\1870251462.py:2: PerformanceWarning: DataFrame is highly fragmented.  This is usually the result of calling `frame.insert` many times, which has poor performance.  Consider joining all columns at once using pd.concat(axis=1) instead. To get a de-fragmented frame, use `newframe = frame.copy()`\n",
      "  df[ohe.get_feature_names_out()]=ohe_cats\n",
      "C:\\Users\\ASUTP-HP1\\AppData\\Local\\Temp\\ipykernel_11000\\1870251462.py:2: PerformanceWarning: DataFrame is highly fragmented.  This is usually the result of calling `frame.insert` many times, which has poor performance.  Consider joining all columns at once using pd.concat(axis=1) instead. To get a de-fragmented frame, use `newframe = frame.copy()`\n",
      "  df[ohe.get_feature_names_out()]=ohe_cats\n",
      "C:\\Users\\ASUTP-HP1\\AppData\\Local\\Temp\\ipykernel_11000\\1870251462.py:2: PerformanceWarning: DataFrame is highly fragmented.  This is usually the result of calling `frame.insert` many times, which has poor performance.  Consider joining all columns at once using pd.concat(axis=1) instead. To get a de-fragmented frame, use `newframe = frame.copy()`\n",
      "  df[ohe.get_feature_names_out()]=ohe_cats\n",
      "C:\\Users\\ASUTP-HP1\\AppData\\Local\\Temp\\ipykernel_11000\\1870251462.py:2: PerformanceWarning: DataFrame is highly fragmented.  This is usually the result of calling `frame.insert` many times, which has poor performance.  Consider joining all columns at once using pd.concat(axis=1) instead. To get a de-fragmented frame, use `newframe = frame.copy()`\n",
      "  df[ohe.get_feature_names_out()]=ohe_cats\n",
      "C:\\Users\\ASUTP-HP1\\AppData\\Local\\Temp\\ipykernel_11000\\1870251462.py:2: PerformanceWarning: DataFrame is highly fragmented.  This is usually the result of calling `frame.insert` many times, which has poor performance.  Consider joining all columns at once using pd.concat(axis=1) instead. To get a de-fragmented frame, use `newframe = frame.copy()`\n",
      "  df[ohe.get_feature_names_out()]=ohe_cats\n",
      "C:\\Users\\ASUTP-HP1\\AppData\\Local\\Temp\\ipykernel_11000\\1870251462.py:2: PerformanceWarning: DataFrame is highly fragmented.  This is usually the result of calling `frame.insert` many times, which has poor performance.  Consider joining all columns at once using pd.concat(axis=1) instead. To get a de-fragmented frame, use `newframe = frame.copy()`\n",
      "  df[ohe.get_feature_names_out()]=ohe_cats\n",
      "C:\\Users\\ASUTP-HP1\\AppData\\Local\\Temp\\ipykernel_11000\\1870251462.py:2: PerformanceWarning: DataFrame is highly fragmented.  This is usually the result of calling `frame.insert` many times, which has poor performance.  Consider joining all columns at once using pd.concat(axis=1) instead. To get a de-fragmented frame, use `newframe = frame.copy()`\n",
      "  df[ohe.get_feature_names_out()]=ohe_cats\n",
      "C:\\Users\\ASUTP-HP1\\AppData\\Local\\Temp\\ipykernel_11000\\1870251462.py:2: PerformanceWarning: DataFrame is highly fragmented.  This is usually the result of calling `frame.insert` many times, which has poor performance.  Consider joining all columns at once using pd.concat(axis=1) instead. To get a de-fragmented frame, use `newframe = frame.copy()`\n",
      "  df[ohe.get_feature_names_out()]=ohe_cats\n",
      "C:\\Users\\ASUTP-HP1\\AppData\\Local\\Temp\\ipykernel_11000\\1870251462.py:2: PerformanceWarning: DataFrame is highly fragmented.  This is usually the result of calling `frame.insert` many times, which has poor performance.  Consider joining all columns at once using pd.concat(axis=1) instead. To get a de-fragmented frame, use `newframe = frame.copy()`\n",
      "  df[ohe.get_feature_names_out()]=ohe_cats\n",
      "C:\\Users\\ASUTP-HP1\\AppData\\Local\\Temp\\ipykernel_11000\\1870251462.py:2: PerformanceWarning: DataFrame is highly fragmented.  This is usually the result of calling `frame.insert` many times, which has poor performance.  Consider joining all columns at once using pd.concat(axis=1) instead. To get a de-fragmented frame, use `newframe = frame.copy()`\n",
      "  df[ohe.get_feature_names_out()]=ohe_cats\n",
      "C:\\Users\\ASUTP-HP1\\AppData\\Local\\Temp\\ipykernel_11000\\1870251462.py:2: PerformanceWarning: DataFrame is highly fragmented.  This is usually the result of calling `frame.insert` many times, which has poor performance.  Consider joining all columns at once using pd.concat(axis=1) instead. To get a de-fragmented frame, use `newframe = frame.copy()`\n",
      "  df[ohe.get_feature_names_out()]=ohe_cats\n",
      "C:\\Users\\ASUTP-HP1\\AppData\\Local\\Temp\\ipykernel_11000\\1870251462.py:2: PerformanceWarning: DataFrame is highly fragmented.  This is usually the result of calling `frame.insert` many times, which has poor performance.  Consider joining all columns at once using pd.concat(axis=1) instead. To get a de-fragmented frame, use `newframe = frame.copy()`\n",
      "  df[ohe.get_feature_names_out()]=ohe_cats\n",
      "C:\\Users\\ASUTP-HP1\\AppData\\Local\\Temp\\ipykernel_11000\\1870251462.py:2: PerformanceWarning: DataFrame is highly fragmented.  This is usually the result of calling `frame.insert` many times, which has poor performance.  Consider joining all columns at once using pd.concat(axis=1) instead. To get a de-fragmented frame, use `newframe = frame.copy()`\n",
      "  df[ohe.get_feature_names_out()]=ohe_cats\n",
      "C:\\Users\\ASUTP-HP1\\AppData\\Local\\Temp\\ipykernel_11000\\1870251462.py:2: PerformanceWarning: DataFrame is highly fragmented.  This is usually the result of calling `frame.insert` many times, which has poor performance.  Consider joining all columns at once using pd.concat(axis=1) instead. To get a de-fragmented frame, use `newframe = frame.copy()`\n",
      "  df[ohe.get_feature_names_out()]=ohe_cats\n",
      "C:\\Users\\ASUTP-HP1\\AppData\\Local\\Temp\\ipykernel_11000\\1870251462.py:2: PerformanceWarning: DataFrame is highly fragmented.  This is usually the result of calling `frame.insert` many times, which has poor performance.  Consider joining all columns at once using pd.concat(axis=1) instead. To get a de-fragmented frame, use `newframe = frame.copy()`\n",
      "  df[ohe.get_feature_names_out()]=ohe_cats\n",
      "C:\\Users\\ASUTP-HP1\\AppData\\Local\\Temp\\ipykernel_11000\\1870251462.py:2: PerformanceWarning: DataFrame is highly fragmented.  This is usually the result of calling `frame.insert` many times, which has poor performance.  Consider joining all columns at once using pd.concat(axis=1) instead. To get a de-fragmented frame, use `newframe = frame.copy()`\n",
      "  df[ohe.get_feature_names_out()]=ohe_cats\n",
      "C:\\Users\\ASUTP-HP1\\AppData\\Local\\Temp\\ipykernel_11000\\1870251462.py:2: PerformanceWarning: DataFrame is highly fragmented.  This is usually the result of calling `frame.insert` many times, which has poor performance.  Consider joining all columns at once using pd.concat(axis=1) instead. To get a de-fragmented frame, use `newframe = frame.copy()`\n",
      "  df[ohe.get_feature_names_out()]=ohe_cats\n",
      "C:\\Users\\ASUTP-HP1\\AppData\\Local\\Temp\\ipykernel_11000\\1870251462.py:2: PerformanceWarning: DataFrame is highly fragmented.  This is usually the result of calling `frame.insert` many times, which has poor performance.  Consider joining all columns at once using pd.concat(axis=1) instead. To get a de-fragmented frame, use `newframe = frame.copy()`\n",
      "  df[ohe.get_feature_names_out()]=ohe_cats\n",
      "C:\\Users\\ASUTP-HP1\\AppData\\Local\\Temp\\ipykernel_11000\\1870251462.py:2: PerformanceWarning: DataFrame is highly fragmented.  This is usually the result of calling `frame.insert` many times, which has poor performance.  Consider joining all columns at once using pd.concat(axis=1) instead. To get a de-fragmented frame, use `newframe = frame.copy()`\n",
      "  df[ohe.get_feature_names_out()]=ohe_cats\n",
      "C:\\Users\\ASUTP-HP1\\AppData\\Local\\Temp\\ipykernel_11000\\1870251462.py:2: PerformanceWarning: DataFrame is highly fragmented.  This is usually the result of calling `frame.insert` many times, which has poor performance.  Consider joining all columns at once using pd.concat(axis=1) instead. To get a de-fragmented frame, use `newframe = frame.copy()`\n",
      "  df[ohe.get_feature_names_out()]=ohe_cats\n",
      "C:\\Users\\ASUTP-HP1\\AppData\\Local\\Temp\\ipykernel_11000\\1870251462.py:2: PerformanceWarning: DataFrame is highly fragmented.  This is usually the result of calling `frame.insert` many times, which has poor performance.  Consider joining all columns at once using pd.concat(axis=1) instead. To get a de-fragmented frame, use `newframe = frame.copy()`\n",
      "  df[ohe.get_feature_names_out()]=ohe_cats\n",
      "C:\\Users\\ASUTP-HP1\\AppData\\Local\\Temp\\ipykernel_11000\\1870251462.py:2: PerformanceWarning: DataFrame is highly fragmented.  This is usually the result of calling `frame.insert` many times, which has poor performance.  Consider joining all columns at once using pd.concat(axis=1) instead. To get a de-fragmented frame, use `newframe = frame.copy()`\n",
      "  df[ohe.get_feature_names_out()]=ohe_cats\n",
      "C:\\Users\\ASUTP-HP1\\AppData\\Local\\Temp\\ipykernel_11000\\1870251462.py:2: PerformanceWarning: DataFrame is highly fragmented.  This is usually the result of calling `frame.insert` many times, which has poor performance.  Consider joining all columns at once using pd.concat(axis=1) instead. To get a de-fragmented frame, use `newframe = frame.copy()`\n",
      "  df[ohe.get_feature_names_out()]=ohe_cats\n",
      "C:\\Users\\ASUTP-HP1\\AppData\\Local\\Temp\\ipykernel_11000\\1870251462.py:2: PerformanceWarning: DataFrame is highly fragmented.  This is usually the result of calling `frame.insert` many times, which has poor performance.  Consider joining all columns at once using pd.concat(axis=1) instead. To get a de-fragmented frame, use `newframe = frame.copy()`\n",
      "  df[ohe.get_feature_names_out()]=ohe_cats\n",
      "C:\\Users\\ASUTP-HP1\\AppData\\Local\\Temp\\ipykernel_11000\\1870251462.py:2: PerformanceWarning: DataFrame is highly fragmented.  This is usually the result of calling `frame.insert` many times, which has poor performance.  Consider joining all columns at once using pd.concat(axis=1) instead. To get a de-fragmented frame, use `newframe = frame.copy()`\n",
      "  df[ohe.get_feature_names_out()]=ohe_cats\n",
      "C:\\Users\\ASUTP-HP1\\AppData\\Local\\Temp\\ipykernel_11000\\1870251462.py:2: PerformanceWarning: DataFrame is highly fragmented.  This is usually the result of calling `frame.insert` many times, which has poor performance.  Consider joining all columns at once using pd.concat(axis=1) instead. To get a de-fragmented frame, use `newframe = frame.copy()`\n",
      "  df[ohe.get_feature_names_out()]=ohe_cats\n",
      "C:\\Users\\ASUTP-HP1\\AppData\\Local\\Temp\\ipykernel_11000\\1870251462.py:2: PerformanceWarning: DataFrame is highly fragmented.  This is usually the result of calling `frame.insert` many times, which has poor performance.  Consider joining all columns at once using pd.concat(axis=1) instead. To get a de-fragmented frame, use `newframe = frame.copy()`\n",
      "  df[ohe.get_feature_names_out()]=ohe_cats\n",
      "C:\\Users\\ASUTP-HP1\\AppData\\Local\\Temp\\ipykernel_11000\\1870251462.py:2: PerformanceWarning: DataFrame is highly fragmented.  This is usually the result of calling `frame.insert` many times, which has poor performance.  Consider joining all columns at once using pd.concat(axis=1) instead. To get a de-fragmented frame, use `newframe = frame.copy()`\n",
      "  df[ohe.get_feature_names_out()]=ohe_cats\n",
      "C:\\Users\\ASUTP-HP1\\AppData\\Local\\Temp\\ipykernel_11000\\1870251462.py:2: PerformanceWarning: DataFrame is highly fragmented.  This is usually the result of calling `frame.insert` many times, which has poor performance.  Consider joining all columns at once using pd.concat(axis=1) instead. To get a de-fragmented frame, use `newframe = frame.copy()`\n",
      "  df[ohe.get_feature_names_out()]=ohe_cats\n",
      "C:\\Users\\ASUTP-HP1\\AppData\\Local\\Temp\\ipykernel_11000\\1870251462.py:2: PerformanceWarning: DataFrame is highly fragmented.  This is usually the result of calling `frame.insert` many times, which has poor performance.  Consider joining all columns at once using pd.concat(axis=1) instead. To get a de-fragmented frame, use `newframe = frame.copy()`\n",
      "  df[ohe.get_feature_names_out()]=ohe_cats\n",
      "C:\\Users\\ASUTP-HP1\\AppData\\Local\\Temp\\ipykernel_11000\\1870251462.py:2: PerformanceWarning: DataFrame is highly fragmented.  This is usually the result of calling `frame.insert` many times, which has poor performance.  Consider joining all columns at once using pd.concat(axis=1) instead. To get a de-fragmented frame, use `newframe = frame.copy()`\n",
      "  df[ohe.get_feature_names_out()]=ohe_cats\n",
      "C:\\Users\\ASUTP-HP1\\AppData\\Local\\Temp\\ipykernel_11000\\1870251462.py:2: PerformanceWarning: DataFrame is highly fragmented.  This is usually the result of calling `frame.insert` many times, which has poor performance.  Consider joining all columns at once using pd.concat(axis=1) instead. To get a de-fragmented frame, use `newframe = frame.copy()`\n",
      "  df[ohe.get_feature_names_out()]=ohe_cats\n",
      "C:\\Users\\ASUTP-HP1\\AppData\\Local\\Temp\\ipykernel_11000\\1870251462.py:2: PerformanceWarning: DataFrame is highly fragmented.  This is usually the result of calling `frame.insert` many times, which has poor performance.  Consider joining all columns at once using pd.concat(axis=1) instead. To get a de-fragmented frame, use `newframe = frame.copy()`\n",
      "  df[ohe.get_feature_names_out()]=ohe_cats\n",
      "C:\\Users\\ASUTP-HP1\\AppData\\Local\\Temp\\ipykernel_11000\\1870251462.py:2: PerformanceWarning: DataFrame is highly fragmented.  This is usually the result of calling `frame.insert` many times, which has poor performance.  Consider joining all columns at once using pd.concat(axis=1) instead. To get a de-fragmented frame, use `newframe = frame.copy()`\n",
      "  df[ohe.get_feature_names_out()]=ohe_cats\n",
      "C:\\Users\\ASUTP-HP1\\AppData\\Local\\Temp\\ipykernel_11000\\1870251462.py:2: PerformanceWarning: DataFrame is highly fragmented.  This is usually the result of calling `frame.insert` many times, which has poor performance.  Consider joining all columns at once using pd.concat(axis=1) instead. To get a de-fragmented frame, use `newframe = frame.copy()`\n",
      "  df[ohe.get_feature_names_out()]=ohe_cats\n",
      "C:\\Users\\ASUTP-HP1\\AppData\\Local\\Temp\\ipykernel_11000\\1870251462.py:2: PerformanceWarning: DataFrame is highly fragmented.  This is usually the result of calling `frame.insert` many times, which has poor performance.  Consider joining all columns at once using pd.concat(axis=1) instead. To get a de-fragmented frame, use `newframe = frame.copy()`\n",
      "  df[ohe.get_feature_names_out()]=ohe_cats\n",
      "C:\\Users\\ASUTP-HP1\\AppData\\Local\\Temp\\ipykernel_11000\\1870251462.py:2: PerformanceWarning: DataFrame is highly fragmented.  This is usually the result of calling `frame.insert` many times, which has poor performance.  Consider joining all columns at once using pd.concat(axis=1) instead. To get a de-fragmented frame, use `newframe = frame.copy()`\n",
      "  df[ohe.get_feature_names_out()]=ohe_cats\n",
      "C:\\Users\\ASUTP-HP1\\AppData\\Local\\Temp\\ipykernel_11000\\1870251462.py:2: PerformanceWarning: DataFrame is highly fragmented.  This is usually the result of calling `frame.insert` many times, which has poor performance.  Consider joining all columns at once using pd.concat(axis=1) instead. To get a de-fragmented frame, use `newframe = frame.copy()`\n",
      "  df[ohe.get_feature_names_out()]=ohe_cats\n",
      "C:\\Users\\ASUTP-HP1\\AppData\\Local\\Temp\\ipykernel_11000\\1870251462.py:2: PerformanceWarning: DataFrame is highly fragmented.  This is usually the result of calling `frame.insert` many times, which has poor performance.  Consider joining all columns at once using pd.concat(axis=1) instead. To get a de-fragmented frame, use `newframe = frame.copy()`\n",
      "  df[ohe.get_feature_names_out()]=ohe_cats\n",
      "C:\\Users\\ASUTP-HP1\\AppData\\Local\\Temp\\ipykernel_11000\\1870251462.py:2: PerformanceWarning: DataFrame is highly fragmented.  This is usually the result of calling `frame.insert` many times, which has poor performance.  Consider joining all columns at once using pd.concat(axis=1) instead. To get a de-fragmented frame, use `newframe = frame.copy()`\n",
      "  df[ohe.get_feature_names_out()]=ohe_cats\n",
      "C:\\Users\\ASUTP-HP1\\AppData\\Local\\Temp\\ipykernel_11000\\1870251462.py:2: PerformanceWarning: DataFrame is highly fragmented.  This is usually the result of calling `frame.insert` many times, which has poor performance.  Consider joining all columns at once using pd.concat(axis=1) instead. To get a de-fragmented frame, use `newframe = frame.copy()`\n",
      "  df[ohe.get_feature_names_out()]=ohe_cats\n",
      "C:\\Users\\ASUTP-HP1\\AppData\\Local\\Temp\\ipykernel_11000\\1870251462.py:2: PerformanceWarning: DataFrame is highly fragmented.  This is usually the result of calling `frame.insert` many times, which has poor performance.  Consider joining all columns at once using pd.concat(axis=1) instead. To get a de-fragmented frame, use `newframe = frame.copy()`\n",
      "  df[ohe.get_feature_names_out()]=ohe_cats\n",
      "C:\\Users\\ASUTP-HP1\\AppData\\Local\\Temp\\ipykernel_11000\\1870251462.py:2: PerformanceWarning: DataFrame is highly fragmented.  This is usually the result of calling `frame.insert` many times, which has poor performance.  Consider joining all columns at once using pd.concat(axis=1) instead. To get a de-fragmented frame, use `newframe = frame.copy()`\n",
      "  df[ohe.get_feature_names_out()]=ohe_cats\n",
      "C:\\Users\\ASUTP-HP1\\AppData\\Local\\Temp\\ipykernel_11000\\1870251462.py:2: PerformanceWarning: DataFrame is highly fragmented.  This is usually the result of calling `frame.insert` many times, which has poor performance.  Consider joining all columns at once using pd.concat(axis=1) instead. To get a de-fragmented frame, use `newframe = frame.copy()`\n",
      "  df[ohe.get_feature_names_out()]=ohe_cats\n",
      "C:\\Users\\ASUTP-HP1\\AppData\\Local\\Temp\\ipykernel_11000\\1870251462.py:2: PerformanceWarning: DataFrame is highly fragmented.  This is usually the result of calling `frame.insert` many times, which has poor performance.  Consider joining all columns at once using pd.concat(axis=1) instead. To get a de-fragmented frame, use `newframe = frame.copy()`\n",
      "  df[ohe.get_feature_names_out()]=ohe_cats\n",
      "C:\\Users\\ASUTP-HP1\\AppData\\Local\\Temp\\ipykernel_11000\\1870251462.py:2: PerformanceWarning: DataFrame is highly fragmented.  This is usually the result of calling `frame.insert` many times, which has poor performance.  Consider joining all columns at once using pd.concat(axis=1) instead. To get a de-fragmented frame, use `newframe = frame.copy()`\n",
      "  df[ohe.get_feature_names_out()]=ohe_cats\n",
      "C:\\Users\\ASUTP-HP1\\AppData\\Local\\Temp\\ipykernel_11000\\1870251462.py:2: PerformanceWarning: DataFrame is highly fragmented.  This is usually the result of calling `frame.insert` many times, which has poor performance.  Consider joining all columns at once using pd.concat(axis=1) instead. To get a de-fragmented frame, use `newframe = frame.copy()`\n",
      "  df[ohe.get_feature_names_out()]=ohe_cats\n",
      "C:\\Users\\ASUTP-HP1\\AppData\\Local\\Temp\\ipykernel_11000\\1870251462.py:2: PerformanceWarning: DataFrame is highly fragmented.  This is usually the result of calling `frame.insert` many times, which has poor performance.  Consider joining all columns at once using pd.concat(axis=1) instead. To get a de-fragmented frame, use `newframe = frame.copy()`\n",
      "  df[ohe.get_feature_names_out()]=ohe_cats\n",
      "C:\\Users\\ASUTP-HP1\\AppData\\Local\\Temp\\ipykernel_11000\\1870251462.py:2: PerformanceWarning: DataFrame is highly fragmented.  This is usually the result of calling `frame.insert` many times, which has poor performance.  Consider joining all columns at once using pd.concat(axis=1) instead. To get a de-fragmented frame, use `newframe = frame.copy()`\n",
      "  df[ohe.get_feature_names_out()]=ohe_cats\n",
      "C:\\Users\\ASUTP-HP1\\AppData\\Local\\Temp\\ipykernel_11000\\1870251462.py:2: PerformanceWarning: DataFrame is highly fragmented.  This is usually the result of calling `frame.insert` many times, which has poor performance.  Consider joining all columns at once using pd.concat(axis=1) instead. To get a de-fragmented frame, use `newframe = frame.copy()`\n",
      "  df[ohe.get_feature_names_out()]=ohe_cats\n",
      "C:\\Users\\ASUTP-HP1\\AppData\\Local\\Temp\\ipykernel_11000\\1870251462.py:2: PerformanceWarning: DataFrame is highly fragmented.  This is usually the result of calling `frame.insert` many times, which has poor performance.  Consider joining all columns at once using pd.concat(axis=1) instead. To get a de-fragmented frame, use `newframe = frame.copy()`\n",
      "  df[ohe.get_feature_names_out()]=ohe_cats\n",
      "C:\\Users\\ASUTP-HP1\\AppData\\Local\\Temp\\ipykernel_11000\\1870251462.py:2: PerformanceWarning: DataFrame is highly fragmented.  This is usually the result of calling `frame.insert` many times, which has poor performance.  Consider joining all columns at once using pd.concat(axis=1) instead. To get a de-fragmented frame, use `newframe = frame.copy()`\n",
      "  df[ohe.get_feature_names_out()]=ohe_cats\n",
      "C:\\Users\\ASUTP-HP1\\AppData\\Local\\Temp\\ipykernel_11000\\1870251462.py:2: PerformanceWarning: DataFrame is highly fragmented.  This is usually the result of calling `frame.insert` many times, which has poor performance.  Consider joining all columns at once using pd.concat(axis=1) instead. To get a de-fragmented frame, use `newframe = frame.copy()`\n",
      "  df[ohe.get_feature_names_out()]=ohe_cats\n",
      "C:\\Users\\ASUTP-HP1\\AppData\\Local\\Temp\\ipykernel_11000\\1870251462.py:2: PerformanceWarning: DataFrame is highly fragmented.  This is usually the result of calling `frame.insert` many times, which has poor performance.  Consider joining all columns at once using pd.concat(axis=1) instead. To get a de-fragmented frame, use `newframe = frame.copy()`\n",
      "  df[ohe.get_feature_names_out()]=ohe_cats\n",
      "C:\\Users\\ASUTP-HP1\\AppData\\Local\\Temp\\ipykernel_11000\\1870251462.py:2: PerformanceWarning: DataFrame is highly fragmented.  This is usually the result of calling `frame.insert` many times, which has poor performance.  Consider joining all columns at once using pd.concat(axis=1) instead. To get a de-fragmented frame, use `newframe = frame.copy()`\n",
      "  df[ohe.get_feature_names_out()]=ohe_cats\n",
      "C:\\Users\\ASUTP-HP1\\AppData\\Local\\Temp\\ipykernel_11000\\1870251462.py:2: PerformanceWarning: DataFrame is highly fragmented.  This is usually the result of calling `frame.insert` many times, which has poor performance.  Consider joining all columns at once using pd.concat(axis=1) instead. To get a de-fragmented frame, use `newframe = frame.copy()`\n",
      "  df[ohe.get_feature_names_out()]=ohe_cats\n",
      "C:\\Users\\ASUTP-HP1\\AppData\\Local\\Temp\\ipykernel_11000\\1870251462.py:2: PerformanceWarning: DataFrame is highly fragmented.  This is usually the result of calling `frame.insert` many times, which has poor performance.  Consider joining all columns at once using pd.concat(axis=1) instead. To get a de-fragmented frame, use `newframe = frame.copy()`\n",
      "  df[ohe.get_feature_names_out()]=ohe_cats\n",
      "C:\\Users\\ASUTP-HP1\\AppData\\Local\\Temp\\ipykernel_11000\\1870251462.py:2: PerformanceWarning: DataFrame is highly fragmented.  This is usually the result of calling `frame.insert` many times, which has poor performance.  Consider joining all columns at once using pd.concat(axis=1) instead. To get a de-fragmented frame, use `newframe = frame.copy()`\n",
      "  df[ohe.get_feature_names_out()]=ohe_cats\n",
      "C:\\Users\\ASUTP-HP1\\AppData\\Local\\Temp\\ipykernel_11000\\1870251462.py:2: PerformanceWarning: DataFrame is highly fragmented.  This is usually the result of calling `frame.insert` many times, which has poor performance.  Consider joining all columns at once using pd.concat(axis=1) instead. To get a de-fragmented frame, use `newframe = frame.copy()`\n",
      "  df[ohe.get_feature_names_out()]=ohe_cats\n",
      "C:\\Users\\ASUTP-HP1\\AppData\\Local\\Temp\\ipykernel_11000\\1870251462.py:2: PerformanceWarning: DataFrame is highly fragmented.  This is usually the result of calling `frame.insert` many times, which has poor performance.  Consider joining all columns at once using pd.concat(axis=1) instead. To get a de-fragmented frame, use `newframe = frame.copy()`\n",
      "  df[ohe.get_feature_names_out()]=ohe_cats\n",
      "C:\\Users\\ASUTP-HP1\\AppData\\Local\\Temp\\ipykernel_11000\\1870251462.py:2: PerformanceWarning: DataFrame is highly fragmented.  This is usually the result of calling `frame.insert` many times, which has poor performance.  Consider joining all columns at once using pd.concat(axis=1) instead. To get a de-fragmented frame, use `newframe = frame.copy()`\n",
      "  df[ohe.get_feature_names_out()]=ohe_cats\n",
      "C:\\Users\\ASUTP-HP1\\AppData\\Local\\Temp\\ipykernel_11000\\1870251462.py:2: PerformanceWarning: DataFrame is highly fragmented.  This is usually the result of calling `frame.insert` many times, which has poor performance.  Consider joining all columns at once using pd.concat(axis=1) instead. To get a de-fragmented frame, use `newframe = frame.copy()`\n",
      "  df[ohe.get_feature_names_out()]=ohe_cats\n",
      "C:\\Users\\ASUTP-HP1\\AppData\\Local\\Temp\\ipykernel_11000\\1870251462.py:2: PerformanceWarning: DataFrame is highly fragmented.  This is usually the result of calling `frame.insert` many times, which has poor performance.  Consider joining all columns at once using pd.concat(axis=1) instead. To get a de-fragmented frame, use `newframe = frame.copy()`\n",
      "  df[ohe.get_feature_names_out()]=ohe_cats\n",
      "C:\\Users\\ASUTP-HP1\\AppData\\Local\\Temp\\ipykernel_11000\\1870251462.py:2: PerformanceWarning: DataFrame is highly fragmented.  This is usually the result of calling `frame.insert` many times, which has poor performance.  Consider joining all columns at once using pd.concat(axis=1) instead. To get a de-fragmented frame, use `newframe = frame.copy()`\n",
      "  df[ohe.get_feature_names_out()]=ohe_cats\n",
      "C:\\Users\\ASUTP-HP1\\AppData\\Local\\Temp\\ipykernel_11000\\1870251462.py:2: PerformanceWarning: DataFrame is highly fragmented.  This is usually the result of calling `frame.insert` many times, which has poor performance.  Consider joining all columns at once using pd.concat(axis=1) instead. To get a de-fragmented frame, use `newframe = frame.copy()`\n",
      "  df[ohe.get_feature_names_out()]=ohe_cats\n",
      "C:\\Users\\ASUTP-HP1\\AppData\\Local\\Temp\\ipykernel_11000\\1870251462.py:2: PerformanceWarning: DataFrame is highly fragmented.  This is usually the result of calling `frame.insert` many times, which has poor performance.  Consider joining all columns at once using pd.concat(axis=1) instead. To get a de-fragmented frame, use `newframe = frame.copy()`\n",
      "  df[ohe.get_feature_names_out()]=ohe_cats\n",
      "C:\\Users\\ASUTP-HP1\\AppData\\Local\\Temp\\ipykernel_11000\\1870251462.py:2: PerformanceWarning: DataFrame is highly fragmented.  This is usually the result of calling `frame.insert` many times, which has poor performance.  Consider joining all columns at once using pd.concat(axis=1) instead. To get a de-fragmented frame, use `newframe = frame.copy()`\n",
      "  df[ohe.get_feature_names_out()]=ohe_cats\n",
      "C:\\Users\\ASUTP-HP1\\AppData\\Local\\Temp\\ipykernel_11000\\1870251462.py:2: PerformanceWarning: DataFrame is highly fragmented.  This is usually the result of calling `frame.insert` many times, which has poor performance.  Consider joining all columns at once using pd.concat(axis=1) instead. To get a de-fragmented frame, use `newframe = frame.copy()`\n",
      "  df[ohe.get_feature_names_out()]=ohe_cats\n",
      "C:\\Users\\ASUTP-HP1\\AppData\\Local\\Temp\\ipykernel_11000\\1870251462.py:2: PerformanceWarning: DataFrame is highly fragmented.  This is usually the result of calling `frame.insert` many times, which has poor performance.  Consider joining all columns at once using pd.concat(axis=1) instead. To get a de-fragmented frame, use `newframe = frame.copy()`\n",
      "  df[ohe.get_feature_names_out()]=ohe_cats\n",
      "C:\\Users\\ASUTP-HP1\\AppData\\Local\\Temp\\ipykernel_11000\\1870251462.py:2: PerformanceWarning: DataFrame is highly fragmented.  This is usually the result of calling `frame.insert` many times, which has poor performance.  Consider joining all columns at once using pd.concat(axis=1) instead. To get a de-fragmented frame, use `newframe = frame.copy()`\n",
      "  df[ohe.get_feature_names_out()]=ohe_cats\n",
      "C:\\Users\\ASUTP-HP1\\AppData\\Local\\Temp\\ipykernel_11000\\1870251462.py:2: PerformanceWarning: DataFrame is highly fragmented.  This is usually the result of calling `frame.insert` many times, which has poor performance.  Consider joining all columns at once using pd.concat(axis=1) instead. To get a de-fragmented frame, use `newframe = frame.copy()`\n",
      "  df[ohe.get_feature_names_out()]=ohe_cats\n",
      "C:\\Users\\ASUTP-HP1\\AppData\\Local\\Temp\\ipykernel_11000\\1870251462.py:2: PerformanceWarning: DataFrame is highly fragmented.  This is usually the result of calling `frame.insert` many times, which has poor performance.  Consider joining all columns at once using pd.concat(axis=1) instead. To get a de-fragmented frame, use `newframe = frame.copy()`\n",
      "  df[ohe.get_feature_names_out()]=ohe_cats\n",
      "C:\\Users\\ASUTP-HP1\\AppData\\Local\\Temp\\ipykernel_11000\\1870251462.py:2: PerformanceWarning: DataFrame is highly fragmented.  This is usually the result of calling `frame.insert` many times, which has poor performance.  Consider joining all columns at once using pd.concat(axis=1) instead. To get a de-fragmented frame, use `newframe = frame.copy()`\n",
      "  df[ohe.get_feature_names_out()]=ohe_cats\n",
      "C:\\Users\\ASUTP-HP1\\AppData\\Local\\Temp\\ipykernel_11000\\1870251462.py:2: PerformanceWarning: DataFrame is highly fragmented.  This is usually the result of calling `frame.insert` many times, which has poor performance.  Consider joining all columns at once using pd.concat(axis=1) instead. To get a de-fragmented frame, use `newframe = frame.copy()`\n",
      "  df[ohe.get_feature_names_out()]=ohe_cats\n",
      "C:\\Users\\ASUTP-HP1\\AppData\\Local\\Temp\\ipykernel_11000\\1870251462.py:2: PerformanceWarning: DataFrame is highly fragmented.  This is usually the result of calling `frame.insert` many times, which has poor performance.  Consider joining all columns at once using pd.concat(axis=1) instead. To get a de-fragmented frame, use `newframe = frame.copy()`\n",
      "  df[ohe.get_feature_names_out()]=ohe_cats\n",
      "C:\\Users\\ASUTP-HP1\\AppData\\Local\\Temp\\ipykernel_11000\\1870251462.py:2: PerformanceWarning: DataFrame is highly fragmented.  This is usually the result of calling `frame.insert` many times, which has poor performance.  Consider joining all columns at once using pd.concat(axis=1) instead. To get a de-fragmented frame, use `newframe = frame.copy()`\n",
      "  df[ohe.get_feature_names_out()]=ohe_cats\n",
      "C:\\Users\\ASUTP-HP1\\AppData\\Local\\Temp\\ipykernel_11000\\1870251462.py:2: PerformanceWarning: DataFrame is highly fragmented.  This is usually the result of calling `frame.insert` many times, which has poor performance.  Consider joining all columns at once using pd.concat(axis=1) instead. To get a de-fragmented frame, use `newframe = frame.copy()`\n",
      "  df[ohe.get_feature_names_out()]=ohe_cats\n",
      "C:\\Users\\ASUTP-HP1\\AppData\\Local\\Temp\\ipykernel_11000\\1870251462.py:2: PerformanceWarning: DataFrame is highly fragmented.  This is usually the result of calling `frame.insert` many times, which has poor performance.  Consider joining all columns at once using pd.concat(axis=1) instead. To get a de-fragmented frame, use `newframe = frame.copy()`\n",
      "  df[ohe.get_feature_names_out()]=ohe_cats\n",
      "C:\\Users\\ASUTP-HP1\\AppData\\Local\\Temp\\ipykernel_11000\\1870251462.py:2: PerformanceWarning: DataFrame is highly fragmented.  This is usually the result of calling `frame.insert` many times, which has poor performance.  Consider joining all columns at once using pd.concat(axis=1) instead. To get a de-fragmented frame, use `newframe = frame.copy()`\n",
      "  df[ohe.get_feature_names_out()]=ohe_cats\n",
      "C:\\Users\\ASUTP-HP1\\AppData\\Local\\Temp\\ipykernel_11000\\1870251462.py:2: PerformanceWarning: DataFrame is highly fragmented.  This is usually the result of calling `frame.insert` many times, which has poor performance.  Consider joining all columns at once using pd.concat(axis=1) instead. To get a de-fragmented frame, use `newframe = frame.copy()`\n",
      "  df[ohe.get_feature_names_out()]=ohe_cats\n",
      "C:\\Users\\ASUTP-HP1\\AppData\\Local\\Temp\\ipykernel_11000\\1870251462.py:2: PerformanceWarning: DataFrame is highly fragmented.  This is usually the result of calling `frame.insert` many times, which has poor performance.  Consider joining all columns at once using pd.concat(axis=1) instead. To get a de-fragmented frame, use `newframe = frame.copy()`\n",
      "  df[ohe.get_feature_names_out()]=ohe_cats\n",
      "C:\\Users\\ASUTP-HP1\\AppData\\Local\\Temp\\ipykernel_11000\\1870251462.py:2: PerformanceWarning: DataFrame is highly fragmented.  This is usually the result of calling `frame.insert` many times, which has poor performance.  Consider joining all columns at once using pd.concat(axis=1) instead. To get a de-fragmented frame, use `newframe = frame.copy()`\n",
      "  df[ohe.get_feature_names_out()]=ohe_cats\n",
      "C:\\Users\\ASUTP-HP1\\AppData\\Local\\Temp\\ipykernel_11000\\1870251462.py:2: PerformanceWarning: DataFrame is highly fragmented.  This is usually the result of calling `frame.insert` many times, which has poor performance.  Consider joining all columns at once using pd.concat(axis=1) instead. To get a de-fragmented frame, use `newframe = frame.copy()`\n",
      "  df[ohe.get_feature_names_out()]=ohe_cats\n",
      "C:\\Users\\ASUTP-HP1\\AppData\\Local\\Temp\\ipykernel_11000\\1870251462.py:2: PerformanceWarning: DataFrame is highly fragmented.  This is usually the result of calling `frame.insert` many times, which has poor performance.  Consider joining all columns at once using pd.concat(axis=1) instead. To get a de-fragmented frame, use `newframe = frame.copy()`\n",
      "  df[ohe.get_feature_names_out()]=ohe_cats\n",
      "C:\\Users\\ASUTP-HP1\\AppData\\Local\\Temp\\ipykernel_11000\\1870251462.py:2: PerformanceWarning: DataFrame is highly fragmented.  This is usually the result of calling `frame.insert` many times, which has poor performance.  Consider joining all columns at once using pd.concat(axis=1) instead. To get a de-fragmented frame, use `newframe = frame.copy()`\n",
      "  df[ohe.get_feature_names_out()]=ohe_cats\n",
      "C:\\Users\\ASUTP-HP1\\AppData\\Local\\Temp\\ipykernel_11000\\1870251462.py:2: PerformanceWarning: DataFrame is highly fragmented.  This is usually the result of calling `frame.insert` many times, which has poor performance.  Consider joining all columns at once using pd.concat(axis=1) instead. To get a de-fragmented frame, use `newframe = frame.copy()`\n",
      "  df[ohe.get_feature_names_out()]=ohe_cats\n",
      "C:\\Users\\ASUTP-HP1\\AppData\\Local\\Temp\\ipykernel_11000\\1870251462.py:2: PerformanceWarning: DataFrame is highly fragmented.  This is usually the result of calling `frame.insert` many times, which has poor performance.  Consider joining all columns at once using pd.concat(axis=1) instead. To get a de-fragmented frame, use `newframe = frame.copy()`\n",
      "  df[ohe.get_feature_names_out()]=ohe_cats\n",
      "C:\\Users\\ASUTP-HP1\\AppData\\Local\\Temp\\ipykernel_11000\\1870251462.py:2: PerformanceWarning: DataFrame is highly fragmented.  This is usually the result of calling `frame.insert` many times, which has poor performance.  Consider joining all columns at once using pd.concat(axis=1) instead. To get a de-fragmented frame, use `newframe = frame.copy()`\n",
      "  df[ohe.get_feature_names_out()]=ohe_cats\n",
      "C:\\Users\\ASUTP-HP1\\AppData\\Local\\Temp\\ipykernel_11000\\1870251462.py:2: PerformanceWarning: DataFrame is highly fragmented.  This is usually the result of calling `frame.insert` many times, which has poor performance.  Consider joining all columns at once using pd.concat(axis=1) instead. To get a de-fragmented frame, use `newframe = frame.copy()`\n",
      "  df[ohe.get_feature_names_out()]=ohe_cats\n",
      "C:\\Users\\ASUTP-HP1\\AppData\\Local\\Temp\\ipykernel_11000\\1870251462.py:2: PerformanceWarning: DataFrame is highly fragmented.  This is usually the result of calling `frame.insert` many times, which has poor performance.  Consider joining all columns at once using pd.concat(axis=1) instead. To get a de-fragmented frame, use `newframe = frame.copy()`\n",
      "  df[ohe.get_feature_names_out()]=ohe_cats\n",
      "C:\\Users\\ASUTP-HP1\\AppData\\Local\\Temp\\ipykernel_11000\\1870251462.py:2: PerformanceWarning: DataFrame is highly fragmented.  This is usually the result of calling `frame.insert` many times, which has poor performance.  Consider joining all columns at once using pd.concat(axis=1) instead. To get a de-fragmented frame, use `newframe = frame.copy()`\n",
      "  df[ohe.get_feature_names_out()]=ohe_cats\n",
      "C:\\Users\\ASUTP-HP1\\AppData\\Local\\Temp\\ipykernel_11000\\1870251462.py:2: PerformanceWarning: DataFrame is highly fragmented.  This is usually the result of calling `frame.insert` many times, which has poor performance.  Consider joining all columns at once using pd.concat(axis=1) instead. To get a de-fragmented frame, use `newframe = frame.copy()`\n",
      "  df[ohe.get_feature_names_out()]=ohe_cats\n",
      "C:\\Users\\ASUTP-HP1\\AppData\\Local\\Temp\\ipykernel_11000\\1870251462.py:2: PerformanceWarning: DataFrame is highly fragmented.  This is usually the result of calling `frame.insert` many times, which has poor performance.  Consider joining all columns at once using pd.concat(axis=1) instead. To get a de-fragmented frame, use `newframe = frame.copy()`\n",
      "  df[ohe.get_feature_names_out()]=ohe_cats\n",
      "C:\\Users\\ASUTP-HP1\\AppData\\Local\\Temp\\ipykernel_11000\\1870251462.py:2: PerformanceWarning: DataFrame is highly fragmented.  This is usually the result of calling `frame.insert` many times, which has poor performance.  Consider joining all columns at once using pd.concat(axis=1) instead. To get a de-fragmented frame, use `newframe = frame.copy()`\n",
      "  df[ohe.get_feature_names_out()]=ohe_cats\n",
      "C:\\Users\\ASUTP-HP1\\AppData\\Local\\Temp\\ipykernel_11000\\1870251462.py:2: PerformanceWarning: DataFrame is highly fragmented.  This is usually the result of calling `frame.insert` many times, which has poor performance.  Consider joining all columns at once using pd.concat(axis=1) instead. To get a de-fragmented frame, use `newframe = frame.copy()`\n",
      "  df[ohe.get_feature_names_out()]=ohe_cats\n",
      "C:\\Users\\ASUTP-HP1\\AppData\\Local\\Temp\\ipykernel_11000\\1870251462.py:2: PerformanceWarning: DataFrame is highly fragmented.  This is usually the result of calling `frame.insert` many times, which has poor performance.  Consider joining all columns at once using pd.concat(axis=1) instead. To get a de-fragmented frame, use `newframe = frame.copy()`\n",
      "  df[ohe.get_feature_names_out()]=ohe_cats\n",
      "C:\\Users\\ASUTP-HP1\\AppData\\Local\\Temp\\ipykernel_11000\\1870251462.py:2: PerformanceWarning: DataFrame is highly fragmented.  This is usually the result of calling `frame.insert` many times, which has poor performance.  Consider joining all columns at once using pd.concat(axis=1) instead. To get a de-fragmented frame, use `newframe = frame.copy()`\n",
      "  df[ohe.get_feature_names_out()]=ohe_cats\n",
      "C:\\Users\\ASUTP-HP1\\AppData\\Local\\Temp\\ipykernel_11000\\1870251462.py:2: PerformanceWarning: DataFrame is highly fragmented.  This is usually the result of calling `frame.insert` many times, which has poor performance.  Consider joining all columns at once using pd.concat(axis=1) instead. To get a de-fragmented frame, use `newframe = frame.copy()`\n",
      "  df[ohe.get_feature_names_out()]=ohe_cats\n",
      "C:\\Users\\ASUTP-HP1\\AppData\\Local\\Temp\\ipykernel_11000\\1870251462.py:2: PerformanceWarning: DataFrame is highly fragmented.  This is usually the result of calling `frame.insert` many times, which has poor performance.  Consider joining all columns at once using pd.concat(axis=1) instead. To get a de-fragmented frame, use `newframe = frame.copy()`\n",
      "  df[ohe.get_feature_names_out()]=ohe_cats\n",
      "C:\\Users\\ASUTP-HP1\\AppData\\Local\\Temp\\ipykernel_11000\\1870251462.py:2: PerformanceWarning: DataFrame is highly fragmented.  This is usually the result of calling `frame.insert` many times, which has poor performance.  Consider joining all columns at once using pd.concat(axis=1) instead. To get a de-fragmented frame, use `newframe = frame.copy()`\n",
      "  df[ohe.get_feature_names_out()]=ohe_cats\n",
      "C:\\Users\\ASUTP-HP1\\AppData\\Local\\Temp\\ipykernel_11000\\1870251462.py:2: PerformanceWarning: DataFrame is highly fragmented.  This is usually the result of calling `frame.insert` many times, which has poor performance.  Consider joining all columns at once using pd.concat(axis=1) instead. To get a de-fragmented frame, use `newframe = frame.copy()`\n",
      "  df[ohe.get_feature_names_out()]=ohe_cats\n",
      "C:\\Users\\ASUTP-HP1\\AppData\\Local\\Temp\\ipykernel_11000\\1870251462.py:2: PerformanceWarning: DataFrame is highly fragmented.  This is usually the result of calling `frame.insert` many times, which has poor performance.  Consider joining all columns at once using pd.concat(axis=1) instead. To get a de-fragmented frame, use `newframe = frame.copy()`\n",
      "  df[ohe.get_feature_names_out()]=ohe_cats\n",
      "C:\\Users\\ASUTP-HP1\\AppData\\Local\\Temp\\ipykernel_11000\\1870251462.py:2: PerformanceWarning: DataFrame is highly fragmented.  This is usually the result of calling `frame.insert` many times, which has poor performance.  Consider joining all columns at once using pd.concat(axis=1) instead. To get a de-fragmented frame, use `newframe = frame.copy()`\n",
      "  df[ohe.get_feature_names_out()]=ohe_cats\n",
      "C:\\Users\\ASUTP-HP1\\AppData\\Local\\Temp\\ipykernel_11000\\1870251462.py:2: PerformanceWarning: DataFrame is highly fragmented.  This is usually the result of calling `frame.insert` many times, which has poor performance.  Consider joining all columns at once using pd.concat(axis=1) instead. To get a de-fragmented frame, use `newframe = frame.copy()`\n",
      "  df[ohe.get_feature_names_out()]=ohe_cats\n",
      "C:\\Users\\ASUTP-HP1\\AppData\\Local\\Temp\\ipykernel_11000\\1870251462.py:2: PerformanceWarning: DataFrame is highly fragmented.  This is usually the result of calling `frame.insert` many times, which has poor performance.  Consider joining all columns at once using pd.concat(axis=1) instead. To get a de-fragmented frame, use `newframe = frame.copy()`\n",
      "  df[ohe.get_feature_names_out()]=ohe_cats\n",
      "C:\\Users\\ASUTP-HP1\\AppData\\Local\\Temp\\ipykernel_11000\\1870251462.py:2: PerformanceWarning: DataFrame is highly fragmented.  This is usually the result of calling `frame.insert` many times, which has poor performance.  Consider joining all columns at once using pd.concat(axis=1) instead. To get a de-fragmented frame, use `newframe = frame.copy()`\n",
      "  df[ohe.get_feature_names_out()]=ohe_cats\n",
      "C:\\Users\\ASUTP-HP1\\AppData\\Local\\Temp\\ipykernel_11000\\1870251462.py:2: PerformanceWarning: DataFrame is highly fragmented.  This is usually the result of calling `frame.insert` many times, which has poor performance.  Consider joining all columns at once using pd.concat(axis=1) instead. To get a de-fragmented frame, use `newframe = frame.copy()`\n",
      "  df[ohe.get_feature_names_out()]=ohe_cats\n",
      "C:\\Users\\ASUTP-HP1\\AppData\\Local\\Temp\\ipykernel_11000\\1870251462.py:2: PerformanceWarning: DataFrame is highly fragmented.  This is usually the result of calling `frame.insert` many times, which has poor performance.  Consider joining all columns at once using pd.concat(axis=1) instead. To get a de-fragmented frame, use `newframe = frame.copy()`\n",
      "  df[ohe.get_feature_names_out()]=ohe_cats\n",
      "C:\\Users\\ASUTP-HP1\\AppData\\Local\\Temp\\ipykernel_11000\\1870251462.py:2: PerformanceWarning: DataFrame is highly fragmented.  This is usually the result of calling `frame.insert` many times, which has poor performance.  Consider joining all columns at once using pd.concat(axis=1) instead. To get a de-fragmented frame, use `newframe = frame.copy()`\n",
      "  df[ohe.get_feature_names_out()]=ohe_cats\n",
      "C:\\Users\\ASUTP-HP1\\AppData\\Local\\Temp\\ipykernel_11000\\1870251462.py:2: PerformanceWarning: DataFrame is highly fragmented.  This is usually the result of calling `frame.insert` many times, which has poor performance.  Consider joining all columns at once using pd.concat(axis=1) instead. To get a de-fragmented frame, use `newframe = frame.copy()`\n",
      "  df[ohe.get_feature_names_out()]=ohe_cats\n",
      "C:\\Users\\ASUTP-HP1\\AppData\\Local\\Temp\\ipykernel_11000\\1870251462.py:2: PerformanceWarning: DataFrame is highly fragmented.  This is usually the result of calling `frame.insert` many times, which has poor performance.  Consider joining all columns at once using pd.concat(axis=1) instead. To get a de-fragmented frame, use `newframe = frame.copy()`\n",
      "  df[ohe.get_feature_names_out()]=ohe_cats\n",
      "C:\\Users\\ASUTP-HP1\\AppData\\Local\\Temp\\ipykernel_11000\\1870251462.py:2: PerformanceWarning: DataFrame is highly fragmented.  This is usually the result of calling `frame.insert` many times, which has poor performance.  Consider joining all columns at once using pd.concat(axis=1) instead. To get a de-fragmented frame, use `newframe = frame.copy()`\n",
      "  df[ohe.get_feature_names_out()]=ohe_cats\n",
      "C:\\Users\\ASUTP-HP1\\AppData\\Local\\Temp\\ipykernel_11000\\1870251462.py:2: PerformanceWarning: DataFrame is highly fragmented.  This is usually the result of calling `frame.insert` many times, which has poor performance.  Consider joining all columns at once using pd.concat(axis=1) instead. To get a de-fragmented frame, use `newframe = frame.copy()`\n",
      "  df[ohe.get_feature_names_out()]=ohe_cats\n",
      "C:\\Users\\ASUTP-HP1\\AppData\\Local\\Temp\\ipykernel_11000\\1870251462.py:2: PerformanceWarning: DataFrame is highly fragmented.  This is usually the result of calling `frame.insert` many times, which has poor performance.  Consider joining all columns at once using pd.concat(axis=1) instead. To get a de-fragmented frame, use `newframe = frame.copy()`\n",
      "  df[ohe.get_feature_names_out()]=ohe_cats\n",
      "C:\\Users\\ASUTP-HP1\\AppData\\Local\\Temp\\ipykernel_11000\\1870251462.py:2: PerformanceWarning: DataFrame is highly fragmented.  This is usually the result of calling `frame.insert` many times, which has poor performance.  Consider joining all columns at once using pd.concat(axis=1) instead. To get a de-fragmented frame, use `newframe = frame.copy()`\n",
      "  df[ohe.get_feature_names_out()]=ohe_cats\n",
      "C:\\Users\\ASUTP-HP1\\AppData\\Local\\Temp\\ipykernel_11000\\1870251462.py:2: PerformanceWarning: DataFrame is highly fragmented.  This is usually the result of calling `frame.insert` many times, which has poor performance.  Consider joining all columns at once using pd.concat(axis=1) instead. To get a de-fragmented frame, use `newframe = frame.copy()`\n",
      "  df[ohe.get_feature_names_out()]=ohe_cats\n",
      "C:\\Users\\ASUTP-HP1\\AppData\\Local\\Temp\\ipykernel_11000\\1870251462.py:2: PerformanceWarning: DataFrame is highly fragmented.  This is usually the result of calling `frame.insert` many times, which has poor performance.  Consider joining all columns at once using pd.concat(axis=1) instead. To get a de-fragmented frame, use `newframe = frame.copy()`\n",
      "  df[ohe.get_feature_names_out()]=ohe_cats\n",
      "C:\\Users\\ASUTP-HP1\\AppData\\Local\\Temp\\ipykernel_11000\\1870251462.py:2: PerformanceWarning: DataFrame is highly fragmented.  This is usually the result of calling `frame.insert` many times, which has poor performance.  Consider joining all columns at once using pd.concat(axis=1) instead. To get a de-fragmented frame, use `newframe = frame.copy()`\n",
      "  df[ohe.get_feature_names_out()]=ohe_cats\n",
      "C:\\Users\\ASUTP-HP1\\AppData\\Local\\Temp\\ipykernel_11000\\1870251462.py:2: PerformanceWarning: DataFrame is highly fragmented.  This is usually the result of calling `frame.insert` many times, which has poor performance.  Consider joining all columns at once using pd.concat(axis=1) instead. To get a de-fragmented frame, use `newframe = frame.copy()`\n",
      "  df[ohe.get_feature_names_out()]=ohe_cats\n",
      "C:\\Users\\ASUTP-HP1\\AppData\\Local\\Temp\\ipykernel_11000\\1870251462.py:2: PerformanceWarning: DataFrame is highly fragmented.  This is usually the result of calling `frame.insert` many times, which has poor performance.  Consider joining all columns at once using pd.concat(axis=1) instead. To get a de-fragmented frame, use `newframe = frame.copy()`\n",
      "  df[ohe.get_feature_names_out()]=ohe_cats\n",
      "C:\\Users\\ASUTP-HP1\\AppData\\Local\\Temp\\ipykernel_11000\\1870251462.py:2: PerformanceWarning: DataFrame is highly fragmented.  This is usually the result of calling `frame.insert` many times, which has poor performance.  Consider joining all columns at once using pd.concat(axis=1) instead. To get a de-fragmented frame, use `newframe = frame.copy()`\n",
      "  df[ohe.get_feature_names_out()]=ohe_cats\n",
      "C:\\Users\\ASUTP-HP1\\AppData\\Local\\Temp\\ipykernel_11000\\1870251462.py:2: PerformanceWarning: DataFrame is highly fragmented.  This is usually the result of calling `frame.insert` many times, which has poor performance.  Consider joining all columns at once using pd.concat(axis=1) instead. To get a de-fragmented frame, use `newframe = frame.copy()`\n",
      "  df[ohe.get_feature_names_out()]=ohe_cats\n",
      "C:\\Users\\ASUTP-HP1\\AppData\\Local\\Temp\\ipykernel_11000\\1870251462.py:2: PerformanceWarning: DataFrame is highly fragmented.  This is usually the result of calling `frame.insert` many times, which has poor performance.  Consider joining all columns at once using pd.concat(axis=1) instead. To get a de-fragmented frame, use `newframe = frame.copy()`\n",
      "  df[ohe.get_feature_names_out()]=ohe_cats\n",
      "C:\\Users\\ASUTP-HP1\\AppData\\Local\\Temp\\ipykernel_11000\\1870251462.py:2: PerformanceWarning: DataFrame is highly fragmented.  This is usually the result of calling `frame.insert` many times, which has poor performance.  Consider joining all columns at once using pd.concat(axis=1) instead. To get a de-fragmented frame, use `newframe = frame.copy()`\n",
      "  df[ohe.get_feature_names_out()]=ohe_cats\n",
      "C:\\Users\\ASUTP-HP1\\AppData\\Local\\Temp\\ipykernel_11000\\1870251462.py:2: PerformanceWarning: DataFrame is highly fragmented.  This is usually the result of calling `frame.insert` many times, which has poor performance.  Consider joining all columns at once using pd.concat(axis=1) instead. To get a de-fragmented frame, use `newframe = frame.copy()`\n",
      "  df[ohe.get_feature_names_out()]=ohe_cats\n",
      "C:\\Users\\ASUTP-HP1\\AppData\\Local\\Temp\\ipykernel_11000\\1870251462.py:2: PerformanceWarning: DataFrame is highly fragmented.  This is usually the result of calling `frame.insert` many times, which has poor performance.  Consider joining all columns at once using pd.concat(axis=1) instead. To get a de-fragmented frame, use `newframe = frame.copy()`\n",
      "  df[ohe.get_feature_names_out()]=ohe_cats\n",
      "C:\\Users\\ASUTP-HP1\\AppData\\Local\\Temp\\ipykernel_11000\\1870251462.py:2: PerformanceWarning: DataFrame is highly fragmented.  This is usually the result of calling `frame.insert` many times, which has poor performance.  Consider joining all columns at once using pd.concat(axis=1) instead. To get a de-fragmented frame, use `newframe = frame.copy()`\n",
      "  df[ohe.get_feature_names_out()]=ohe_cats\n",
      "C:\\Users\\ASUTP-HP1\\AppData\\Local\\Temp\\ipykernel_11000\\1870251462.py:2: PerformanceWarning: DataFrame is highly fragmented.  This is usually the result of calling `frame.insert` many times, which has poor performance.  Consider joining all columns at once using pd.concat(axis=1) instead. To get a de-fragmented frame, use `newframe = frame.copy()`\n",
      "  df[ohe.get_feature_names_out()]=ohe_cats\n",
      "C:\\Users\\ASUTP-HP1\\AppData\\Local\\Temp\\ipykernel_11000\\1870251462.py:2: PerformanceWarning: DataFrame is highly fragmented.  This is usually the result of calling `frame.insert` many times, which has poor performance.  Consider joining all columns at once using pd.concat(axis=1) instead. To get a de-fragmented frame, use `newframe = frame.copy()`\n",
      "  df[ohe.get_feature_names_out()]=ohe_cats\n",
      "C:\\Users\\ASUTP-HP1\\AppData\\Local\\Temp\\ipykernel_11000\\1870251462.py:2: PerformanceWarning: DataFrame is highly fragmented.  This is usually the result of calling `frame.insert` many times, which has poor performance.  Consider joining all columns at once using pd.concat(axis=1) instead. To get a de-fragmented frame, use `newframe = frame.copy()`\n",
      "  df[ohe.get_feature_names_out()]=ohe_cats\n",
      "C:\\Users\\ASUTP-HP1\\AppData\\Local\\Temp\\ipykernel_11000\\1870251462.py:2: PerformanceWarning: DataFrame is highly fragmented.  This is usually the result of calling `frame.insert` many times, which has poor performance.  Consider joining all columns at once using pd.concat(axis=1) instead. To get a de-fragmented frame, use `newframe = frame.copy()`\n",
      "  df[ohe.get_feature_names_out()]=ohe_cats\n",
      "C:\\Users\\ASUTP-HP1\\AppData\\Local\\Temp\\ipykernel_11000\\1870251462.py:2: PerformanceWarning: DataFrame is highly fragmented.  This is usually the result of calling `frame.insert` many times, which has poor performance.  Consider joining all columns at once using pd.concat(axis=1) instead. To get a de-fragmented frame, use `newframe = frame.copy()`\n",
      "  df[ohe.get_feature_names_out()]=ohe_cats\n",
      "C:\\Users\\ASUTP-HP1\\AppData\\Local\\Temp\\ipykernel_11000\\1870251462.py:2: PerformanceWarning: DataFrame is highly fragmented.  This is usually the result of calling `frame.insert` many times, which has poor performance.  Consider joining all columns at once using pd.concat(axis=1) instead. To get a de-fragmented frame, use `newframe = frame.copy()`\n",
      "  df[ohe.get_feature_names_out()]=ohe_cats\n",
      "C:\\Users\\ASUTP-HP1\\AppData\\Local\\Temp\\ipykernel_11000\\1870251462.py:2: PerformanceWarning: DataFrame is highly fragmented.  This is usually the result of calling `frame.insert` many times, which has poor performance.  Consider joining all columns at once using pd.concat(axis=1) instead. To get a de-fragmented frame, use `newframe = frame.copy()`\n",
      "  df[ohe.get_feature_names_out()]=ohe_cats\n",
      "C:\\Users\\ASUTP-HP1\\AppData\\Local\\Temp\\ipykernel_11000\\1870251462.py:2: PerformanceWarning: DataFrame is highly fragmented.  This is usually the result of calling `frame.insert` many times, which has poor performance.  Consider joining all columns at once using pd.concat(axis=1) instead. To get a de-fragmented frame, use `newframe = frame.copy()`\n",
      "  df[ohe.get_feature_names_out()]=ohe_cats\n",
      "C:\\Users\\ASUTP-HP1\\AppData\\Local\\Temp\\ipykernel_11000\\1870251462.py:2: PerformanceWarning: DataFrame is highly fragmented.  This is usually the result of calling `frame.insert` many times, which has poor performance.  Consider joining all columns at once using pd.concat(axis=1) instead. To get a de-fragmented frame, use `newframe = frame.copy()`\n",
      "  df[ohe.get_feature_names_out()]=ohe_cats\n",
      "C:\\Users\\ASUTP-HP1\\AppData\\Local\\Temp\\ipykernel_11000\\1870251462.py:2: PerformanceWarning: DataFrame is highly fragmented.  This is usually the result of calling `frame.insert` many times, which has poor performance.  Consider joining all columns at once using pd.concat(axis=1) instead. To get a de-fragmented frame, use `newframe = frame.copy()`\n",
      "  df[ohe.get_feature_names_out()]=ohe_cats\n",
      "C:\\Users\\ASUTP-HP1\\AppData\\Local\\Temp\\ipykernel_11000\\1870251462.py:2: PerformanceWarning: DataFrame is highly fragmented.  This is usually the result of calling `frame.insert` many times, which has poor performance.  Consider joining all columns at once using pd.concat(axis=1) instead. To get a de-fragmented frame, use `newframe = frame.copy()`\n",
      "  df[ohe.get_feature_names_out()]=ohe_cats\n",
      "C:\\Users\\ASUTP-HP1\\AppData\\Local\\Temp\\ipykernel_11000\\1870251462.py:2: PerformanceWarning: DataFrame is highly fragmented.  This is usually the result of calling `frame.insert` many times, which has poor performance.  Consider joining all columns at once using pd.concat(axis=1) instead. To get a de-fragmented frame, use `newframe = frame.copy()`\n",
      "  df[ohe.get_feature_names_out()]=ohe_cats\n",
      "C:\\Users\\ASUTP-HP1\\AppData\\Local\\Temp\\ipykernel_11000\\1870251462.py:2: PerformanceWarning: DataFrame is highly fragmented.  This is usually the result of calling `frame.insert` many times, which has poor performance.  Consider joining all columns at once using pd.concat(axis=1) instead. To get a de-fragmented frame, use `newframe = frame.copy()`\n",
      "  df[ohe.get_feature_names_out()]=ohe_cats\n",
      "C:\\Users\\ASUTP-HP1\\AppData\\Local\\Temp\\ipykernel_11000\\1870251462.py:2: PerformanceWarning: DataFrame is highly fragmented.  This is usually the result of calling `frame.insert` many times, which has poor performance.  Consider joining all columns at once using pd.concat(axis=1) instead. To get a de-fragmented frame, use `newframe = frame.copy()`\n",
      "  df[ohe.get_feature_names_out()]=ohe_cats\n",
      "C:\\Users\\ASUTP-HP1\\AppData\\Local\\Temp\\ipykernel_11000\\1870251462.py:2: PerformanceWarning: DataFrame is highly fragmented.  This is usually the result of calling `frame.insert` many times, which has poor performance.  Consider joining all columns at once using pd.concat(axis=1) instead. To get a de-fragmented frame, use `newframe = frame.copy()`\n",
      "  df[ohe.get_feature_names_out()]=ohe_cats\n",
      "C:\\Users\\ASUTP-HP1\\AppData\\Local\\Temp\\ipykernel_11000\\1870251462.py:2: PerformanceWarning: DataFrame is highly fragmented.  This is usually the result of calling `frame.insert` many times, which has poor performance.  Consider joining all columns at once using pd.concat(axis=1) instead. To get a de-fragmented frame, use `newframe = frame.copy()`\n",
      "  df[ohe.get_feature_names_out()]=ohe_cats\n",
      "C:\\Users\\ASUTP-HP1\\AppData\\Local\\Temp\\ipykernel_11000\\1870251462.py:2: PerformanceWarning: DataFrame is highly fragmented.  This is usually the result of calling `frame.insert` many times, which has poor performance.  Consider joining all columns at once using pd.concat(axis=1) instead. To get a de-fragmented frame, use `newframe = frame.copy()`\n",
      "  df[ohe.get_feature_names_out()]=ohe_cats\n",
      "C:\\Users\\ASUTP-HP1\\AppData\\Local\\Temp\\ipykernel_11000\\1870251462.py:2: PerformanceWarning: DataFrame is highly fragmented.  This is usually the result of calling `frame.insert` many times, which has poor performance.  Consider joining all columns at once using pd.concat(axis=1) instead. To get a de-fragmented frame, use `newframe = frame.copy()`\n",
      "  df[ohe.get_feature_names_out()]=ohe_cats\n",
      "C:\\Users\\ASUTP-HP1\\AppData\\Local\\Temp\\ipykernel_11000\\1870251462.py:2: PerformanceWarning: DataFrame is highly fragmented.  This is usually the result of calling `frame.insert` many times, which has poor performance.  Consider joining all columns at once using pd.concat(axis=1) instead. To get a de-fragmented frame, use `newframe = frame.copy()`\n",
      "  df[ohe.get_feature_names_out()]=ohe_cats\n",
      "C:\\Users\\ASUTP-HP1\\AppData\\Local\\Temp\\ipykernel_11000\\1870251462.py:2: PerformanceWarning: DataFrame is highly fragmented.  This is usually the result of calling `frame.insert` many times, which has poor performance.  Consider joining all columns at once using pd.concat(axis=1) instead. To get a de-fragmented frame, use `newframe = frame.copy()`\n",
      "  df[ohe.get_feature_names_out()]=ohe_cats\n",
      "C:\\Users\\ASUTP-HP1\\AppData\\Local\\Temp\\ipykernel_11000\\1870251462.py:2: PerformanceWarning: DataFrame is highly fragmented.  This is usually the result of calling `frame.insert` many times, which has poor performance.  Consider joining all columns at once using pd.concat(axis=1) instead. To get a de-fragmented frame, use `newframe = frame.copy()`\n",
      "  df[ohe.get_feature_names_out()]=ohe_cats\n",
      "C:\\Users\\ASUTP-HP1\\AppData\\Local\\Temp\\ipykernel_11000\\1870251462.py:2: PerformanceWarning: DataFrame is highly fragmented.  This is usually the result of calling `frame.insert` many times, which has poor performance.  Consider joining all columns at once using pd.concat(axis=1) instead. To get a de-fragmented frame, use `newframe = frame.copy()`\n",
      "  df[ohe.get_feature_names_out()]=ohe_cats\n",
      "C:\\Users\\ASUTP-HP1\\AppData\\Local\\Temp\\ipykernel_11000\\1870251462.py:2: PerformanceWarning: DataFrame is highly fragmented.  This is usually the result of calling `frame.insert` many times, which has poor performance.  Consider joining all columns at once using pd.concat(axis=1) instead. To get a de-fragmented frame, use `newframe = frame.copy()`\n",
      "  df[ohe.get_feature_names_out()]=ohe_cats\n",
      "C:\\Users\\ASUTP-HP1\\AppData\\Local\\Temp\\ipykernel_11000\\1870251462.py:2: PerformanceWarning: DataFrame is highly fragmented.  This is usually the result of calling `frame.insert` many times, which has poor performance.  Consider joining all columns at once using pd.concat(axis=1) instead. To get a de-fragmented frame, use `newframe = frame.copy()`\n",
      "  df[ohe.get_feature_names_out()]=ohe_cats\n",
      "C:\\Users\\ASUTP-HP1\\AppData\\Local\\Temp\\ipykernel_11000\\1870251462.py:2: PerformanceWarning: DataFrame is highly fragmented.  This is usually the result of calling `frame.insert` many times, which has poor performance.  Consider joining all columns at once using pd.concat(axis=1) instead. To get a de-fragmented frame, use `newframe = frame.copy()`\n",
      "  df[ohe.get_feature_names_out()]=ohe_cats\n",
      "C:\\Users\\ASUTP-HP1\\AppData\\Local\\Temp\\ipykernel_11000\\1870251462.py:2: PerformanceWarning: DataFrame is highly fragmented.  This is usually the result of calling `frame.insert` many times, which has poor performance.  Consider joining all columns at once using pd.concat(axis=1) instead. To get a de-fragmented frame, use `newframe = frame.copy()`\n",
      "  df[ohe.get_feature_names_out()]=ohe_cats\n",
      "C:\\Users\\ASUTP-HP1\\AppData\\Local\\Temp\\ipykernel_11000\\1870251462.py:2: PerformanceWarning: DataFrame is highly fragmented.  This is usually the result of calling `frame.insert` many times, which has poor performance.  Consider joining all columns at once using pd.concat(axis=1) instead. To get a de-fragmented frame, use `newframe = frame.copy()`\n",
      "  df[ohe.get_feature_names_out()]=ohe_cats\n",
      "C:\\Users\\ASUTP-HP1\\AppData\\Local\\Temp\\ipykernel_11000\\1870251462.py:2: PerformanceWarning: DataFrame is highly fragmented.  This is usually the result of calling `frame.insert` many times, which has poor performance.  Consider joining all columns at once using pd.concat(axis=1) instead. To get a de-fragmented frame, use `newframe = frame.copy()`\n",
      "  df[ohe.get_feature_names_out()]=ohe_cats\n",
      "C:\\Users\\ASUTP-HP1\\AppData\\Local\\Temp\\ipykernel_11000\\1870251462.py:2: PerformanceWarning: DataFrame is highly fragmented.  This is usually the result of calling `frame.insert` many times, which has poor performance.  Consider joining all columns at once using pd.concat(axis=1) instead. To get a de-fragmented frame, use `newframe = frame.copy()`\n",
      "  df[ohe.get_feature_names_out()]=ohe_cats\n",
      "C:\\Users\\ASUTP-HP1\\AppData\\Local\\Temp\\ipykernel_11000\\1870251462.py:2: PerformanceWarning: DataFrame is highly fragmented.  This is usually the result of calling `frame.insert` many times, which has poor performance.  Consider joining all columns at once using pd.concat(axis=1) instead. To get a de-fragmented frame, use `newframe = frame.copy()`\n",
      "  df[ohe.get_feature_names_out()]=ohe_cats\n",
      "C:\\Users\\ASUTP-HP1\\AppData\\Local\\Temp\\ipykernel_11000\\1870251462.py:2: PerformanceWarning: DataFrame is highly fragmented.  This is usually the result of calling `frame.insert` many times, which has poor performance.  Consider joining all columns at once using pd.concat(axis=1) instead. To get a de-fragmented frame, use `newframe = frame.copy()`\n",
      "  df[ohe.get_feature_names_out()]=ohe_cats\n",
      "C:\\Users\\ASUTP-HP1\\AppData\\Local\\Temp\\ipykernel_11000\\1870251462.py:2: PerformanceWarning: DataFrame is highly fragmented.  This is usually the result of calling `frame.insert` many times, which has poor performance.  Consider joining all columns at once using pd.concat(axis=1) instead. To get a de-fragmented frame, use `newframe = frame.copy()`\n",
      "  df[ohe.get_feature_names_out()]=ohe_cats\n",
      "C:\\Users\\ASUTP-HP1\\AppData\\Local\\Temp\\ipykernel_11000\\1870251462.py:2: PerformanceWarning: DataFrame is highly fragmented.  This is usually the result of calling `frame.insert` many times, which has poor performance.  Consider joining all columns at once using pd.concat(axis=1) instead. To get a de-fragmented frame, use `newframe = frame.copy()`\n",
      "  df[ohe.get_feature_names_out()]=ohe_cats\n",
      "C:\\Users\\ASUTP-HP1\\AppData\\Local\\Temp\\ipykernel_11000\\1870251462.py:2: PerformanceWarning: DataFrame is highly fragmented.  This is usually the result of calling `frame.insert` many times, which has poor performance.  Consider joining all columns at once using pd.concat(axis=1) instead. To get a de-fragmented frame, use `newframe = frame.copy()`\n",
      "  df[ohe.get_feature_names_out()]=ohe_cats\n",
      "C:\\Users\\ASUTP-HP1\\AppData\\Local\\Temp\\ipykernel_11000\\1870251462.py:2: PerformanceWarning: DataFrame is highly fragmented.  This is usually the result of calling `frame.insert` many times, which has poor performance.  Consider joining all columns at once using pd.concat(axis=1) instead. To get a de-fragmented frame, use `newframe = frame.copy()`\n",
      "  df[ohe.get_feature_names_out()]=ohe_cats\n",
      "C:\\Users\\ASUTP-HP1\\AppData\\Local\\Temp\\ipykernel_11000\\1870251462.py:2: PerformanceWarning: DataFrame is highly fragmented.  This is usually the result of calling `frame.insert` many times, which has poor performance.  Consider joining all columns at once using pd.concat(axis=1) instead. To get a de-fragmented frame, use `newframe = frame.copy()`\n",
      "  df[ohe.get_feature_names_out()]=ohe_cats\n",
      "C:\\Users\\ASUTP-HP1\\AppData\\Local\\Temp\\ipykernel_11000\\1870251462.py:2: PerformanceWarning: DataFrame is highly fragmented.  This is usually the result of calling `frame.insert` many times, which has poor performance.  Consider joining all columns at once using pd.concat(axis=1) instead. To get a de-fragmented frame, use `newframe = frame.copy()`\n",
      "  df[ohe.get_feature_names_out()]=ohe_cats\n",
      "C:\\Users\\ASUTP-HP1\\AppData\\Local\\Temp\\ipykernel_11000\\1870251462.py:2: PerformanceWarning: DataFrame is highly fragmented.  This is usually the result of calling `frame.insert` many times, which has poor performance.  Consider joining all columns at once using pd.concat(axis=1) instead. To get a de-fragmented frame, use `newframe = frame.copy()`\n",
      "  df[ohe.get_feature_names_out()]=ohe_cats\n",
      "C:\\Users\\ASUTP-HP1\\AppData\\Local\\Temp\\ipykernel_11000\\1870251462.py:2: PerformanceWarning: DataFrame is highly fragmented.  This is usually the result of calling `frame.insert` many times, which has poor performance.  Consider joining all columns at once using pd.concat(axis=1) instead. To get a de-fragmented frame, use `newframe = frame.copy()`\n",
      "  df[ohe.get_feature_names_out()]=ohe_cats\n",
      "C:\\Users\\ASUTP-HP1\\AppData\\Local\\Temp\\ipykernel_11000\\1870251462.py:2: PerformanceWarning: DataFrame is highly fragmented.  This is usually the result of calling `frame.insert` many times, which has poor performance.  Consider joining all columns at once using pd.concat(axis=1) instead. To get a de-fragmented frame, use `newframe = frame.copy()`\n",
      "  df[ohe.get_feature_names_out()]=ohe_cats\n",
      "C:\\Users\\ASUTP-HP1\\AppData\\Local\\Temp\\ipykernel_11000\\1870251462.py:2: PerformanceWarning: DataFrame is highly fragmented.  This is usually the result of calling `frame.insert` many times, which has poor performance.  Consider joining all columns at once using pd.concat(axis=1) instead. To get a de-fragmented frame, use `newframe = frame.copy()`\n",
      "  df[ohe.get_feature_names_out()]=ohe_cats\n",
      "C:\\Users\\ASUTP-HP1\\AppData\\Local\\Temp\\ipykernel_11000\\1870251462.py:2: PerformanceWarning: DataFrame is highly fragmented.  This is usually the result of calling `frame.insert` many times, which has poor performance.  Consider joining all columns at once using pd.concat(axis=1) instead. To get a de-fragmented frame, use `newframe = frame.copy()`\n",
      "  df[ohe.get_feature_names_out()]=ohe_cats\n",
      "C:\\Users\\ASUTP-HP1\\AppData\\Local\\Temp\\ipykernel_11000\\1870251462.py:2: PerformanceWarning: DataFrame is highly fragmented.  This is usually the result of calling `frame.insert` many times, which has poor performance.  Consider joining all columns at once using pd.concat(axis=1) instead. To get a de-fragmented frame, use `newframe = frame.copy()`\n",
      "  df[ohe.get_feature_names_out()]=ohe_cats\n",
      "C:\\Users\\ASUTP-HP1\\AppData\\Local\\Temp\\ipykernel_11000\\1870251462.py:2: PerformanceWarning: DataFrame is highly fragmented.  This is usually the result of calling `frame.insert` many times, which has poor performance.  Consider joining all columns at once using pd.concat(axis=1) instead. To get a de-fragmented frame, use `newframe = frame.copy()`\n",
      "  df[ohe.get_feature_names_out()]=ohe_cats\n",
      "C:\\Users\\ASUTP-HP1\\AppData\\Local\\Temp\\ipykernel_11000\\1870251462.py:2: PerformanceWarning: DataFrame is highly fragmented.  This is usually the result of calling `frame.insert` many times, which has poor performance.  Consider joining all columns at once using pd.concat(axis=1) instead. To get a de-fragmented frame, use `newframe = frame.copy()`\n",
      "  df[ohe.get_feature_names_out()]=ohe_cats\n",
      "C:\\Users\\ASUTP-HP1\\AppData\\Local\\Temp\\ipykernel_11000\\1870251462.py:2: PerformanceWarning: DataFrame is highly fragmented.  This is usually the result of calling `frame.insert` many times, which has poor performance.  Consider joining all columns at once using pd.concat(axis=1) instead. To get a de-fragmented frame, use `newframe = frame.copy()`\n",
      "  df[ohe.get_feature_names_out()]=ohe_cats\n",
      "C:\\Users\\ASUTP-HP1\\AppData\\Local\\Temp\\ipykernel_11000\\1870251462.py:2: PerformanceWarning: DataFrame is highly fragmented.  This is usually the result of calling `frame.insert` many times, which has poor performance.  Consider joining all columns at once using pd.concat(axis=1) instead. To get a de-fragmented frame, use `newframe = frame.copy()`\n",
      "  df[ohe.get_feature_names_out()]=ohe_cats\n",
      "C:\\Users\\ASUTP-HP1\\AppData\\Local\\Temp\\ipykernel_11000\\1870251462.py:2: PerformanceWarning: DataFrame is highly fragmented.  This is usually the result of calling `frame.insert` many times, which has poor performance.  Consider joining all columns at once using pd.concat(axis=1) instead. To get a de-fragmented frame, use `newframe = frame.copy()`\n",
      "  df[ohe.get_feature_names_out()]=ohe_cats\n",
      "C:\\Users\\ASUTP-HP1\\AppData\\Local\\Temp\\ipykernel_11000\\1870251462.py:2: PerformanceWarning: DataFrame is highly fragmented.  This is usually the result of calling `frame.insert` many times, which has poor performance.  Consider joining all columns at once using pd.concat(axis=1) instead. To get a de-fragmented frame, use `newframe = frame.copy()`\n",
      "  df[ohe.get_feature_names_out()]=ohe_cats\n",
      "C:\\Users\\ASUTP-HP1\\AppData\\Local\\Temp\\ipykernel_11000\\1870251462.py:2: PerformanceWarning: DataFrame is highly fragmented.  This is usually the result of calling `frame.insert` many times, which has poor performance.  Consider joining all columns at once using pd.concat(axis=1) instead. To get a de-fragmented frame, use `newframe = frame.copy()`\n",
      "  df[ohe.get_feature_names_out()]=ohe_cats\n",
      "C:\\Users\\ASUTP-HP1\\AppData\\Local\\Temp\\ipykernel_11000\\1870251462.py:2: PerformanceWarning: DataFrame is highly fragmented.  This is usually the result of calling `frame.insert` many times, which has poor performance.  Consider joining all columns at once using pd.concat(axis=1) instead. To get a de-fragmented frame, use `newframe = frame.copy()`\n",
      "  df[ohe.get_feature_names_out()]=ohe_cats\n",
      "C:\\Users\\ASUTP-HP1\\AppData\\Local\\Temp\\ipykernel_11000\\1870251462.py:2: PerformanceWarning: DataFrame is highly fragmented.  This is usually the result of calling `frame.insert` many times, which has poor performance.  Consider joining all columns at once using pd.concat(axis=1) instead. To get a de-fragmented frame, use `newframe = frame.copy()`\n",
      "  df[ohe.get_feature_names_out()]=ohe_cats\n",
      "C:\\Users\\ASUTP-HP1\\AppData\\Local\\Temp\\ipykernel_11000\\1870251462.py:2: PerformanceWarning: DataFrame is highly fragmented.  This is usually the result of calling `frame.insert` many times, which has poor performance.  Consider joining all columns at once using pd.concat(axis=1) instead. To get a de-fragmented frame, use `newframe = frame.copy()`\n",
      "  df[ohe.get_feature_names_out()]=ohe_cats\n",
      "C:\\Users\\ASUTP-HP1\\AppData\\Local\\Temp\\ipykernel_11000\\1870251462.py:2: PerformanceWarning: DataFrame is highly fragmented.  This is usually the result of calling `frame.insert` many times, which has poor performance.  Consider joining all columns at once using pd.concat(axis=1) instead. To get a de-fragmented frame, use `newframe = frame.copy()`\n",
      "  df[ohe.get_feature_names_out()]=ohe_cats\n",
      "C:\\Users\\ASUTP-HP1\\AppData\\Local\\Temp\\ipykernel_11000\\1870251462.py:2: PerformanceWarning: DataFrame is highly fragmented.  This is usually the result of calling `frame.insert` many times, which has poor performance.  Consider joining all columns at once using pd.concat(axis=1) instead. To get a de-fragmented frame, use `newframe = frame.copy()`\n",
      "  df[ohe.get_feature_names_out()]=ohe_cats\n"
     ]
    },
    {
     "data": {
      "text/html": [
       "<div>\n",
       "<style scoped>\n",
       "    .dataframe tbody tr th:only-of-type {\n",
       "        vertical-align: middle;\n",
       "    }\n",
       "\n",
       "    .dataframe tbody tr th {\n",
       "        vertical-align: top;\n",
       "    }\n",
       "\n",
       "    .dataframe thead th {\n",
       "        text-align: right;\n",
       "    }\n",
       "</style>\n",
       "<table border=\"1\" class=\"dataframe\">\n",
       "  <thead>\n",
       "    <tr style=\"text-align: right;\">\n",
       "      <th></th>\n",
       "      <th>id</th>\n",
       "      <th>url</th>\n",
       "      <th>region</th>\n",
       "      <th>region_url</th>\n",
       "      <th>price</th>\n",
       "      <th>year</th>\n",
       "      <th>manufacturer</th>\n",
       "      <th>model</th>\n",
       "      <th>fuel</th>\n",
       "      <th>odometer</th>\n",
       "      <th>...</th>\n",
       "      <th>state_wy</th>\n",
       "      <th>title_status_clean</th>\n",
       "      <th>title_status_lien</th>\n",
       "      <th>title_status_missing</th>\n",
       "      <th>title_status_parts only</th>\n",
       "      <th>title_status_rebuilt</th>\n",
       "      <th>title_status_salvage</th>\n",
       "      <th>age_category_average</th>\n",
       "      <th>age_category_new</th>\n",
       "      <th>age_category_old</th>\n",
       "    </tr>\n",
       "  </thead>\n",
       "  <tbody>\n",
       "    <tr>\n",
       "      <th>0</th>\n",
       "      <td>7308295377</td>\n",
       "      <td>https://chattanooga.craigslist.org/ctd/d/chatt...</td>\n",
       "      <td>chattanooga</td>\n",
       "      <td>https://chattanooga.craigslist.org</td>\n",
       "      <td>54990</td>\n",
       "      <td>2020</td>\n",
       "      <td>ram</td>\n",
       "      <td>2500 crew cab big horn</td>\n",
       "      <td>diesel</td>\n",
       "      <td>27442</td>\n",
       "      <td>...</td>\n",
       "      <td>0.0</td>\n",
       "      <td>1.0</td>\n",
       "      <td>0.0</td>\n",
       "      <td>0.0</td>\n",
       "      <td>0.0</td>\n",
       "      <td>0.0</td>\n",
       "      <td>0.0</td>\n",
       "      <td>0.0</td>\n",
       "      <td>1.0</td>\n",
       "      <td>0.0</td>\n",
       "    </tr>\n",
       "    <tr>\n",
       "      <th>1</th>\n",
       "      <td>7316380095</td>\n",
       "      <td>https://newjersey.craigslist.org/ctd/d/carlsta...</td>\n",
       "      <td>north jersey</td>\n",
       "      <td>https://newjersey.craigslist.org</td>\n",
       "      <td>16942</td>\n",
       "      <td>2016</td>\n",
       "      <td>ford</td>\n",
       "      <td>explorer 4wd 4dr xlt</td>\n",
       "      <td>other</td>\n",
       "      <td>60023</td>\n",
       "      <td>...</td>\n",
       "      <td>0.0</td>\n",
       "      <td>1.0</td>\n",
       "      <td>0.0</td>\n",
       "      <td>0.0</td>\n",
       "      <td>0.0</td>\n",
       "      <td>0.0</td>\n",
       "      <td>0.0</td>\n",
       "      <td>0.0</td>\n",
       "      <td>1.0</td>\n",
       "      <td>0.0</td>\n",
       "    </tr>\n",
       "    <tr>\n",
       "      <th>2</th>\n",
       "      <td>7313733749</td>\n",
       "      <td>https://reno.craigslist.org/ctd/d/atlanta-2017...</td>\n",
       "      <td>reno / tahoe</td>\n",
       "      <td>https://reno.craigslist.org</td>\n",
       "      <td>35590</td>\n",
       "      <td>2017</td>\n",
       "      <td>volkswagen</td>\n",
       "      <td>golf r hatchback</td>\n",
       "      <td>gas</td>\n",
       "      <td>14048</td>\n",
       "      <td>...</td>\n",
       "      <td>0.0</td>\n",
       "      <td>1.0</td>\n",
       "      <td>0.0</td>\n",
       "      <td>0.0</td>\n",
       "      <td>0.0</td>\n",
       "      <td>0.0</td>\n",
       "      <td>0.0</td>\n",
       "      <td>0.0</td>\n",
       "      <td>1.0</td>\n",
       "      <td>0.0</td>\n",
       "    </tr>\n",
       "    <tr>\n",
       "      <th>3</th>\n",
       "      <td>7308210929</td>\n",
       "      <td>https://fayetteville.craigslist.org/ctd/d/rale...</td>\n",
       "      <td>fayetteville</td>\n",
       "      <td>https://fayetteville.craigslist.org</td>\n",
       "      <td>14500</td>\n",
       "      <td>2013</td>\n",
       "      <td>toyota</td>\n",
       "      <td>rav4</td>\n",
       "      <td>gas</td>\n",
       "      <td>117291</td>\n",
       "      <td>...</td>\n",
       "      <td>0.0</td>\n",
       "      <td>1.0</td>\n",
       "      <td>0.0</td>\n",
       "      <td>0.0</td>\n",
       "      <td>0.0</td>\n",
       "      <td>0.0</td>\n",
       "      <td>0.0</td>\n",
       "      <td>1.0</td>\n",
       "      <td>0.0</td>\n",
       "      <td>0.0</td>\n",
       "    </tr>\n",
       "    <tr>\n",
       "      <th>4</th>\n",
       "      <td>7303797340</td>\n",
       "      <td>https://knoxville.craigslist.org/ctd/d/knoxvil...</td>\n",
       "      <td>knoxville</td>\n",
       "      <td>https://knoxville.craigslist.org</td>\n",
       "      <td>14590</td>\n",
       "      <td>2012</td>\n",
       "      <td>bmw</td>\n",
       "      <td>1 series 128i coupe 2d</td>\n",
       "      <td>other</td>\n",
       "      <td>80465</td>\n",
       "      <td>...</td>\n",
       "      <td>0.0</td>\n",
       "      <td>1.0</td>\n",
       "      <td>0.0</td>\n",
       "      <td>0.0</td>\n",
       "      <td>0.0</td>\n",
       "      <td>0.0</td>\n",
       "      <td>0.0</td>\n",
       "      <td>1.0</td>\n",
       "      <td>0.0</td>\n",
       "      <td>0.0</td>\n",
       "    </tr>\n",
       "  </tbody>\n",
       "</table>\n",
       "<p>5 rows × 1485 columns</p>\n",
       "</div>"
      ],
      "text/plain": [
       "           id                                                url  \\\n",
       "0  7308295377  https://chattanooga.craigslist.org/ctd/d/chatt...   \n",
       "1  7316380095  https://newjersey.craigslist.org/ctd/d/carlsta...   \n",
       "2  7313733749  https://reno.craigslist.org/ctd/d/atlanta-2017...   \n",
       "3  7308210929  https://fayetteville.craigslist.org/ctd/d/rale...   \n",
       "4  7303797340  https://knoxville.craigslist.org/ctd/d/knoxvil...   \n",
       "\n",
       "         region                           region_url  price  year  \\\n",
       "0   chattanooga   https://chattanooga.craigslist.org  54990  2020   \n",
       "1  north jersey     https://newjersey.craigslist.org  16942  2016   \n",
       "2  reno / tahoe          https://reno.craigslist.org  35590  2017   \n",
       "3  fayetteville  https://fayetteville.craigslist.org  14500  2013   \n",
       "4     knoxville     https://knoxville.craigslist.org  14590  2012   \n",
       "\n",
       "  manufacturer                   model    fuel  odometer  ... state_wy  \\\n",
       "0          ram  2500 crew cab big horn  diesel     27442  ...      0.0   \n",
       "1         ford    explorer 4wd 4dr xlt   other     60023  ...      0.0   \n",
       "2   volkswagen        golf r hatchback     gas     14048  ...      0.0   \n",
       "3       toyota                    rav4     gas    117291  ...      0.0   \n",
       "4          bmw  1 series 128i coupe 2d   other     80465  ...      0.0   \n",
       "\n",
       "  title_status_clean title_status_lien title_status_missing  \\\n",
       "0                1.0               0.0                  0.0   \n",
       "1                1.0               0.0                  0.0   \n",
       "2                1.0               0.0                  0.0   \n",
       "3                1.0               0.0                  0.0   \n",
       "4                1.0               0.0                  0.0   \n",
       "\n",
       "  title_status_parts only  title_status_rebuilt  title_status_salvage  \\\n",
       "0                     0.0                   0.0                   0.0   \n",
       "1                     0.0                   0.0                   0.0   \n",
       "2                     0.0                   0.0                   0.0   \n",
       "3                     0.0                   0.0                   0.0   \n",
       "4                     0.0                   0.0                   0.0   \n",
       "\n",
       "  age_category_average age_category_new age_category_old  \n",
       "0                  0.0              1.0              0.0  \n",
       "1                  0.0              1.0              0.0  \n",
       "2                  0.0              1.0              0.0  \n",
       "3                  1.0              0.0              0.0  \n",
       "4                  1.0              0.0              0.0  \n",
       "\n",
       "[5 rows x 1485 columns]"
      ]
     },
     "execution_count": 11,
     "metadata": {},
     "output_type": "execute_result"
    }
   ],
   "source": [
    "# Ваш код здесь\n"
   ]
  },
  {
   "cell_type": "markdown",
   "id": "4eddeddb",
   "metadata": {
    "id": "4eddeddb"
   },
   "source": [
    "8. Посмотрите на результат обратного преобразования получившейся матрицы в исходные признаки, используйте `inverse_transform`."
   ]
  },
  {
   "cell_type": "code",
   "execution_count": 12,
   "id": "0f2613e6",
   "metadata": {
    "ExecuteTime": {
     "end_time": "2022-03-15T22:40:45.647004Z",
     "start_time": "2022-03-15T22:40:45.641686Z"
    },
    "id": "0f2613e6"
   },
   "outputs": [],
   "source": [
    "# Ваш код здесь\n"
   ]
  },
  {
   "cell_type": "markdown",
   "id": "29bad2c6",
   "metadata": {
    "id": "29bad2c6"
   },
   "source": [
    "### Задача 3. Стандартизация данных\n",
    "\n",
    "1. Создайте переменную под количественные переменные `lat`, `long`, `year`, `odometer/price`, `desc_len`, `model_in_desc`, `model_len`, `model_word_count` и создайте датафрейм `data`, содержащий только выбранные количественные переменные.\n"
   ]
  },
  {
   "cell_type": "code",
   "execution_count": 14,
   "id": "ad704812",
   "metadata": {
    "ExecuteTime": {
     "end_time": "2022-03-15T22:40:45.881773Z",
     "start_time": "2022-03-15T22:40:45.875957Z"
    },
    "id": "ad704812"
   },
   "outputs": [],
   "source": [
    "# Ваш код здесь\n"
   ]
  },
  {
   "cell_type": "markdown",
   "id": "3e3704a7",
   "metadata": {
    "id": "3e3704a7"
   },
   "source": [
    "2. Создайте объект `std_scaler` класса StandardScaler с параметрами по умолчанию, который будет отвечать за стандартизацию."
   ]
  },
  {
   "cell_type": "code",
   "execution_count": 15,
   "id": "7b8ab72c",
   "metadata": {
    "ExecuteTime": {
     "end_time": "2022-03-15T22:40:46.294618Z",
     "start_time": "2022-03-15T22:40:46.288462Z"
    },
    "id": "7b8ab72c"
   },
   "outputs": [],
   "source": [
    "# Ваш код здесь\n"
   ]
  },
  {
   "cell_type": "markdown",
   "id": "1630cfa2",
   "metadata": {
    "id": "1630cfa2"
   },
   "source": [
    "3. Идентифицируйте параметры преобразования на датафрейме с количественными переменными."
   ]
  },
  {
   "cell_type": "code",
   "execution_count": 16,
   "id": "0cc2c08b",
   "metadata": {
    "ExecuteTime": {
     "end_time": "2022-03-15T22:40:46.338630Z",
     "start_time": "2022-03-15T22:40:46.333793Z"
    },
    "id": "0cc2c08b"
   },
   "outputs": [],
   "source": [
    "# Ваш код здесь\n"
   ]
  },
  {
   "cell_type": "markdown",
   "id": "9ef7ff55",
   "metadata": {
    "id": "9ef7ff55"
   },
   "source": [
    "4. Примените преобразование для датафрейма с количественными переменными и сохраните в новую переменную, распечатайте получившуюся матрицу и её размерность."
   ]
  },
  {
   "cell_type": "code",
   "execution_count": 17,
   "id": "cd141505",
   "metadata": {
    "ExecuteTime": {
     "end_time": "2022-03-15T22:40:46.389565Z",
     "start_time": "2022-03-15T22:40:46.380037Z"
    },
    "id": "cd141505"
   },
   "outputs": [],
   "source": [
    "# Ваш код здесь\n"
   ]
  },
  {
   "cell_type": "markdown",
   "id": "68d44f88",
   "metadata": {
    "ExecuteTime": {
     "end_time": "2022-03-13T11:12:57.421096Z",
     "start_time": "2022-03-13T11:12:57.414865Z"
    },
    "id": "68d44f88"
   },
   "source": [
    "5. Создайте наименования новых признаков по шаблону: `lat_std` для `lat` и так далее."
   ]
  },
  {
   "cell_type": "code",
   "execution_count": 17,
   "id": "013e66f2",
   "metadata": {
    "ExecuteTime": {
     "end_time": "2022-03-15T22:40:46.483299Z",
     "start_time": "2022-03-15T22:40:46.475050Z"
    },
    "id": "013e66f2"
   },
   "outputs": [],
   "source": [
    "# Ваш код здесь\n"
   ]
  },
  {
   "cell_type": "markdown",
   "id": "490925bb",
   "metadata": {
    "ExecuteTime": {
     "end_time": "2022-03-13T11:13:15.167251Z",
     "start_time": "2022-03-13T11:13:15.161293Z"
    },
    "id": "490925bb"
   },
   "source": [
    "6. Добавьте в исходный датафрейм получившиеся новые признаки, выведите первые пять записей датафрейма и список колонок."
   ]
  },
  {
   "cell_type": "code",
   "execution_count": 18,
   "id": "6eb7c0dd",
   "metadata": {
    "ExecuteTime": {
     "end_time": "2022-03-15T22:40:46.528674Z",
     "start_time": "2022-03-15T22:40:46.520688Z"
    },
    "id": "6eb7c0dd"
   },
   "outputs": [],
   "source": [
    "# Ваш код здесь\n"
   ]
  },
  {
   "cell_type": "markdown",
   "id": "0a3146dd",
   "metadata": {
    "ExecuteTime": {
     "end_time": "2022-03-13T11:16:52.292837Z",
     "start_time": "2022-03-13T11:16:52.286868Z"
    },
    "id": "0a3146dd"
   },
   "source": [
    "### Задача 4. MinMax-нормализация данных\n",
    "\n",
    "1. Импортируйте MinMaxScaler из `sklearn.preprocessing`."
   ]
  },
  {
   "cell_type": "code",
   "execution_count": 19,
   "id": "3db8afba",
   "metadata": {
    "ExecuteTime": {
     "end_time": "2022-03-15T22:40:46.701361Z",
     "start_time": "2022-03-15T22:40:46.695192Z"
    },
    "id": "3db8afba"
   },
   "outputs": [],
   "source": [
    "# Ваш код здесь\n"
   ]
  },
  {
   "cell_type": "markdown",
   "id": "d471557f",
   "metadata": {
    "id": "d471557f"
   },
   "source": [
    "2. Создайте датафрейм, содержащий переменные `lat` и `long`."
   ]
  },
  {
   "cell_type": "code",
   "execution_count": 20,
   "id": "13859501",
   "metadata": {
    "ExecuteTime": {
     "end_time": "2022-03-15T22:40:46.732137Z",
     "start_time": "2022-03-15T22:40:46.725228Z"
    },
    "id": "13859501"
   },
   "outputs": [],
   "source": [
    "# Ваш код здесь\n"
   ]
  },
  {
   "cell_type": "markdown",
   "id": "0599fc35",
   "metadata": {
    "id": "0599fc35"
   },
   "source": [
    "3. Повторите действия пунктов 2–6 из задачи 3 для добавления в исходный датафрейм признаков `lat_mm` и `long_mm`. Выведите получившийся датафрейм."
   ]
  },
  {
   "cell_type": "code",
   "execution_count": 21,
   "id": "26f2c546",
   "metadata": {
    "ExecuteTime": {
     "end_time": "2022-03-15T22:40:47.159782Z",
     "start_time": "2022-03-15T22:40:47.148971Z"
    },
    "id": "26f2c546"
   },
   "outputs": [],
   "source": [
    "# Ваш код здесь\n"
   ]
  },
  {
   "cell_type": "markdown",
   "id": "71044c34",
   "metadata": {
    "id": "71044c34"
   },
   "source": [
    "4. Создайте переменную под географические признаки `lat`, `lat_std`, `lat_mm`, `long`, `long_std`, `long_mm` и выведите их. Посмотрите на различия в значениях для исходных признаков и нормализованных с помощью стандартизации и MinMax-преобразования. "
   ]
  },
  {
   "cell_type": "code",
   "execution_count": 22,
   "id": "27642284",
   "metadata": {
    "ExecuteTime": {
     "end_time": "2022-03-15T22:40:47.408669Z",
     "start_time": "2022-03-15T22:40:47.402057Z"
    },
    "id": "27642284"
   },
   "outputs": [],
   "source": [
    "# Ваш код здесь\n"
   ]
  },
  {
   "cell_type": "markdown",
   "id": "ef219d5f",
   "metadata": {
    "id": "ef219d5f"
   },
   "source": [
    "5. Выведите описательные статистики для всех географических признаков. Посмотрите на различия в статистиках для исходных признаков и нормализованных с помощью стандартизации и MinMax-преобразования."
   ]
  },
  {
   "cell_type": "code",
   "execution_count": 23,
   "id": "453b92ff",
   "metadata": {
    "ExecuteTime": {
     "end_time": "2022-03-15T22:40:47.738681Z",
     "start_time": "2022-03-15T22:40:47.730698Z"
    },
    "id": "453b92ff"
   },
   "outputs": [],
   "source": [
    "# Ваш код здесь\n"
   ]
  },
  {
   "cell_type": "markdown",
   "id": "efac5751",
   "metadata": {
    "id": "efac5751"
   },
   "source": [
    "6. Выведите матрицу корреляций для всех географических признаков, чтобы убедиться, что нормализация признаков сохранила свойства исходных признаков."
   ]
  },
  {
   "cell_type": "code",
   "execution_count": 24,
   "id": "10bcd5c8",
   "metadata": {
    "ExecuteTime": {
     "end_time": "2022-03-15T22:40:47.841822Z",
     "start_time": "2022-03-15T22:40:47.835737Z"
    },
    "id": "10bcd5c8"
   },
   "outputs": [],
   "source": [
    "# Ваш код здесь\n"
   ]
  },
  {
   "cell_type": "markdown",
   "id": "f87792e8",
   "metadata": {
    "ExecuteTime": {
     "end_time": "2022-03-13T12:00:09.641795Z",
     "start_time": "2022-03-13T12:00:09.636474Z"
    },
    "id": "f87792e8"
   },
   "source": [
    "### Задача 5. Признаки на основе дат\n",
    "\n",
    "1. Выведите по отдельности колонки `posting_date` и `date`. "
   ]
  },
  {
   "cell_type": "code",
   "execution_count": 25,
   "id": "1cf0cc30",
   "metadata": {
    "ExecuteTime": {
     "end_time": "2022-03-15T22:40:48.879395Z",
     "start_time": "2022-03-15T22:40:48.875098Z"
    },
    "id": "1cf0cc30"
   },
   "outputs": [],
   "source": [
    "# Ваш код здесь\n"
   ]
  },
  {
   "cell_type": "markdown",
   "id": "a154545f",
   "metadata": {
    "id": "a154545f"
   },
   "source": [
    "2. Ранее преобразованная колонка `date` после сохранения в файл и загрузки из него содержит данные в строковом формате, поэтому измените её тип c помощью `pd.to_datetime`."
   ]
  },
  {
   "cell_type": "code",
   "execution_count": 26,
   "id": "a196635b",
   "metadata": {
    "ExecuteTime": {
     "end_time": "2022-03-15T22:49:02.356258Z",
     "start_time": "2022-03-15T22:49:02.315893Z"
    },
    "id": "a196635b"
   },
   "outputs": [],
   "source": [
    "# Ваш код здесь\n"
   ]
  },
  {
   "cell_type": "markdown",
   "id": "c9b3e6f1",
   "metadata": {
    "id": "c9b3e6f1"
   },
   "source": [
    "3. Несколькими способами извлеките номер месяца продажи автомобиля.\n",
    "\n",
    "3.1. Из переменной `posting_date` с помощью lambda-функции и операций над строками."
   ]
  },
  {
   "cell_type": "code",
   "execution_count": 27,
   "id": "7fb35f85",
   "metadata": {
    "ExecuteTime": {
     "end_time": "2022-03-15T22:40:51.380851Z",
     "start_time": "2022-03-15T22:40:51.369103Z"
    },
    "id": "7fb35f85"
   },
   "outputs": [],
   "source": [
    "# Ваш код здесь\n"
   ]
  },
  {
   "cell_type": "markdown",
   "id": "3218fd7e",
   "metadata": {
    "id": "3218fd7e"
   },
   "source": [
    "3.2. Из переменной `date` с помощью lambda-функции и метода `month`."
   ]
  },
  {
   "cell_type": "code",
   "execution_count": 28,
   "id": "4fd839cb",
   "metadata": {
    "ExecuteTime": {
     "end_time": "2022-03-15T22:40:54.064285Z",
     "start_time": "2022-03-15T22:40:54.057551Z"
    },
    "id": "4fd839cb"
   },
   "outputs": [],
   "source": [
    "# Ваш код здесь\n"
   ]
  },
  {
   "cell_type": "markdown",
   "id": "4000edd6",
   "metadata": {
    "ExecuteTime": {
     "end_time": "2022-03-13T12:25:21.228094Z",
     "start_time": "2022-03-13T12:25:21.223060Z"
    },
    "id": "4000edd6"
   },
   "source": [
    "3.3. Из переменной `date` с помощью `dt` и метода `month`."
   ]
  },
  {
   "cell_type": "code",
   "execution_count": 29,
   "id": "b4112009",
   "metadata": {
    "ExecuteTime": {
     "end_time": "2022-03-15T22:40:55.768506Z",
     "start_time": "2022-03-15T22:40:55.764567Z"
    },
    "id": "b4112009"
   },
   "outputs": [],
   "source": [
    "# Ваш код здесь\n"
   ]
  },
  {
   "cell_type": "markdown",
   "id": "4c79c093",
   "metadata": {
    "id": "4c79c093"
   },
   "source": [
    "4. Создайте любым из способов (3.2 или 3.3) признак `month`, обозначающий номер месяца размещения объявления о продаже автомобиля, и распечатайте его."
   ]
  },
  {
   "cell_type": "code",
   "execution_count": 30,
   "id": "a6f217a1",
   "metadata": {
    "ExecuteTime": {
     "end_time": "2022-03-15T22:40:55.808808Z",
     "start_time": "2022-03-15T22:40:55.801804Z"
    },
    "id": "a6f217a1"
   },
   "outputs": [],
   "source": [
    "# Ваш код здесь\n"
   ]
  },
  {
   "cell_type": "markdown",
   "id": "c855e481",
   "metadata": {
    "id": "c855e481"
   },
   "source": [
    "5. Создайте признак `dayofweek`, обозначающий день недели размещения объявления о продаже автомобиля, и распечатайте его."
   ]
  },
  {
   "cell_type": "code",
   "execution_count": 31,
   "id": "ceda59b0",
   "metadata": {
    "ExecuteTime": {
     "end_time": "2022-03-15T22:40:55.838752Z",
     "start_time": "2022-03-15T22:40:55.833582Z"
    },
    "id": "ceda59b0"
   },
   "outputs": [],
   "source": [
    "# Ваш код здесь\n"
   ]
  },
  {
   "cell_type": "markdown",
   "id": "53253b00",
   "metadata": {
    "id": "53253b00"
   },
   "source": [
    "6. Создайте признак `diff_years`, обозначающий количество лет между годом производства автомобиля и годом размещения объявления о продаже автомобиля, и распечатайте его. Дополнительные корректировки не применяйте."
   ]
  },
  {
   "cell_type": "code",
   "execution_count": 32,
   "id": "c5b0ec88",
   "metadata": {
    "ExecuteTime": {
     "end_time": "2022-03-15T22:40:56.791095Z",
     "start_time": "2022-03-15T22:40:56.787550Z"
    },
    "id": "c5b0ec88"
   },
   "outputs": [],
   "source": [
    "# Ваш код здесь\n"
   ]
  },
  {
   "cell_type": "markdown",
   "id": "d3a54316",
   "metadata": {
    "id": "d3a54316"
   },
   "source": [
    "7. Примените стандартизацию к новым признаками и сохраните результат в новые признаки вида `month_std`."
   ]
  },
  {
   "cell_type": "code",
   "execution_count": 33,
   "id": "8b2c2e19",
   "metadata": {
    "ExecuteTime": {
     "end_time": "2022-03-15T22:40:57.928930Z",
     "start_time": "2022-03-15T22:40:57.925925Z"
    },
    "id": "8b2c2e19"
   },
   "outputs": [],
   "source": [
    "# Ваш код здесь\n"
   ]
  },
  {
   "cell_type": "markdown",
   "id": "aba80393",
   "metadata": {
    "ExecuteTime": {
     "end_time": "2022-03-13T12:36:22.108423Z",
     "start_time": "2022-03-13T12:36:22.103687Z"
    },
    "id": "aba80393"
   },
   "source": [
    "### Задача 6. Сохранение датафрейма для этапа моделирования\n",
    "\n",
    "1. Удалите колонки, которые были исходными для формирования признаков, а также новые признаки, которые были добавлены с целью обучения.  Сохраните новый датафрейм в переменную `df_prepared`."
   ]
  },
  {
   "cell_type": "code",
   "execution_count": 34,
   "id": "58ab4836",
   "metadata": {
    "ExecuteTime": {
     "end_time": "2022-03-15T22:41:00.072365Z",
     "start_time": "2022-03-15T22:41:00.064841Z"
    },
    "id": "58ab4836"
   },
   "outputs": [],
   "source": [
    "# Допишите код\n",
    "\n"
   ]
  },
  {
   "cell_type": "markdown",
   "id": "f120eaaa",
   "metadata": {
    "id": "f120eaaa"
   },
   "source": [
    "2. Распечатайте оставшийся список колонок и размерность финального датафрейма."
   ]
  },
  {
   "cell_type": "code",
   "execution_count": 35,
   "id": "13fb36c3",
   "metadata": {
    "ExecuteTime": {
     "end_time": "2022-03-15T22:41:03.176389Z",
     "start_time": "2022-03-15T22:41:03.172474Z"
    },
    "id": "13fb36c3"
   },
   "outputs": [],
   "source": [
    "# Ваш код здесь\n"
   ]
  },
  {
   "cell_type": "markdown",
   "id": "b62690ff",
   "metadata": {
    "id": "b62690ff"
   },
   "source": [
    "3. Запишите преобразованный датафрейм в файл `data/vehicles_dataset_prepared.csv`, индекс не сохраняйте."
   ]
  },
  {
   "cell_type": "code",
   "execution_count": 36,
   "id": "955e76dd",
   "metadata": {
    "ExecuteTime": {
     "end_time": "2022-03-15T22:41:08.021538Z",
     "start_time": "2022-03-15T22:41:08.016555Z"
    },
    "id": "955e76dd"
   },
   "outputs": [],
   "source": [
    "# Ваш код здесь\n"
   ]
  },
  {
   "cell_type": "markdown",
   "id": "6e4960b4",
   "metadata": {
    "id": "6e4960b4"
   },
   "source": [
    "## Описание преобразованного датасета:\n",
    "- `id`— идентификатор записи;\n",
    "- `is_manufacturer_name`— признак производителя автомобиля;\n",
    "\n",
    "- `region_*`— регион;\n",
    "- `x0_*`— тип топлива;\n",
    "- `manufacturer_*`— производитель;\n",
    "- `short_model_*`— сокращённая модель автомобиля;\n",
    "- `title_status_*`— статус;\n",
    "- `transmission_*`— коробка передач;\n",
    "- `state_*`— штат;\n",
    "- `age_category_*`— возрастная категория автомобиля;\n",
    "\n",
    "- `std_scaled_odometer`— количество пройденных миль (после стандартизации);\n",
    "- `year_std`— год выпуска (после стандартизации);\n",
    "- `lat_std`— широта (после стандартизации);\n",
    "- `long_std`— долгота (после стандартизации);\n",
    "- `odometer/price_std`— отношение стоимости к пробегу автомобиля (после стандартизации);\n",
    "- `desc_len_std`— количество символов в тексте объявления о продаже (после стандартизации);\n",
    "- `model_in_desc_std`— количество наименований модели автомобиля в тексте объявления о продаже (после стандартизации);\n",
    "- `model_len_std`— длина наименования автомобиля (после стандартизации);\n",
    "- `model_word_count_std`— количество слов в наименовании автомобиля (после стандартизации);\n",
    "- `month_std`— номер месяца размещения объявления о продаже автомобиля (после стандартизации);\n",
    "- `dayofweek_std`— день недели размещения объявления о продаже автомобиля (после стандартизации);\n",
    "- `diff_years_std`— количество лет между годом производства автомобиля и годом размещения объявления о продаже автомобиля (после стандартизации);\n",
    "\n",
    "- `price`— стоимость;\n",
    "- `price_category`– категория цены."
   ]
  }
 ],
 "metadata": {
  "colab": {
   "collapsed_sections": [],
   "provenance": []
  },
  "kernelspec": {
   "display_name": "Python 3 (ipykernel)",
   "language": "python",
   "name": "python3"
  },
  "language_info": {
   "codemirror_mode": {
    "name": "ipython",
    "version": 3
   },
   "file_extension": ".py",
   "mimetype": "text/x-python",
   "name": "python",
   "nbconvert_exporter": "python",
   "pygments_lexer": "ipython3",
   "version": "3.12.7"
  },
  "toc": {
   "base_numbering": 1,
   "nav_menu": {},
   "number_sections": true,
   "sideBar": true,
   "skip_h1_title": false,
   "title_cell": "Table of Contents",
   "title_sidebar": "Contents",
   "toc_cell": false,
   "toc_position": {},
   "toc_section_display": true,
   "toc_window_display": false
  }
 },
 "nbformat": 4,
 "nbformat_minor": 5
}
